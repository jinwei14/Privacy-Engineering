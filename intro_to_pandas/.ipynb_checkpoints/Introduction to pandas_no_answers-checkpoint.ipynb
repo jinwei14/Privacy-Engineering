{
 "cells": [
  {
   "cell_type": "markdown",
   "metadata": {},
   "source": [
    "# Introduction to Pandas\n",
    "\n",
    "In this notebook we will go over some basics of the python module ```pandas``` using Python 3.5 (and above). \n"
   ]
  },
  {
   "cell_type": "markdown",
   "metadata": {},
   "source": [
    "## The toy dataset\n",
    "\n",
    "We will use the dataset available [here](https://archive.ics.uci.edu/ml/datasets/Wine+Quality).\n",
    "Read the information here to understand what the dataset is all about. \n",
    "\n",
    "The dataset contains information about the perceived quality of a particular brand of Portuguese wine.  \n",
    "\n",
    "Each row will represent a particular red wine variant and each column will contain the following:\n",
    "1. fixed acidity\n",
    "2. volatile acidity\n",
    "3. citric acid\n",
    "4. residual sugar\n",
    "5. chlorides\n",
    "6. free sulfur dioxide\n",
    "7. total sulfur dioxide\n",
    "8. density\n",
    "9. pH\n",
    "10. sulphates\n",
    "11. alcohol\n",
    "12. quality (score between 0 and 10)\n",
    "\n",
    "We will use the data to learn more about working with ```pandas```.\n",
    "\n",
    "\n",
    "## Downloading the data:\n",
    "\n",
    "Visit [this link](https://archive.ics.uci.edu/ml/machine-learning-databases/wine-quality/winequality-red.csv) and save the CSV (Comma Separated Values) file to the **same folder** where you have saved **this notebook** without altering the suggested name. Go ahead and open it with a **text editor**, to get an idea of what it looks like. You should have something like this:\n",
    "\n",
    "![title](csv_head.png)"
   ]
  },
  {
   "cell_type": "markdown",
   "metadata": {},
   "source": [
    "Let's load this dataset into `Pandas`.\n",
    "\n",
    "**Exercise 1**: use Pandas' `read_csv` method to open the dataset as a `pandas.DataFrame` named `redwine`. Use the `.head` method to confirm that you loaded it correctly."
   ]
  },
  {
   "cell_type": "code",
   "execution_count": null,
   "metadata": {
    "ExecuteTime": {
     "end_time": "2018-03-12T16:27:23.196681Z",
     "start_time": "2018-03-12T16:27:22.760619Z"
    },
    "collapsed": true
   },
   "outputs": [],
   "source": [
    "# Loading the pandas module with the name 'pd' \n",
    "import pandas as pd "
   ]
  },
  {
   "cell_type": "code",
   "execution_count": null,
   "metadata": {
    "ExecuteTime": {
     "end_time": "2018-03-12T16:27:23.209653Z",
     "start_time": "2018-03-12T16:27:23.198656Z"
    },
    "collapsed": true
   },
   "outputs": [],
   "source": [
    "# YOUR CODE HERE"
   ]
  },
  {
   "cell_type": "code",
   "execution_count": null,
   "metadata": {
    "ExecuteTime": {
     "end_time": "2018-03-12T16:27:23.298087Z",
     "start_time": "2018-03-12T16:27:23.260492Z"
    }
   },
   "outputs": [],
   "source": [
    "redwine.head()"
   ]
  },
  {
   "cell_type": "markdown",
   "metadata": {},
   "source": [
    "### What does Pandas do?\n",
    "\n",
    "The function `read_csv` returns a ```pandas.DataFrame``` object (in our example, ```redwine``` ). This is Pandas' representation of a dataset, and we will use this type extensively in the course. Pandas DataFrame are very powerful objects, that allow for a lot of high-level operations for manipulating the data. In this tutorial, we will cover some of the basic operations that you will need for the CO408H course.\n",
    "\n",
    "A `pandas.DataFrame` represents data as a table with *columns* and *rows*. Each row represents a record of the data (a person, an interaction, a wine, ...), and each column represents an attribute of this record. Columns are represented by a _unique name_ and have a specific type (integer, float, string, tuple, etc.).\n"
   ]
  },
  {
   "cell_type": "markdown",
   "metadata": {},
   "source": [
    "The `.info` method of a `pandas.DataFrame` gives detailed information about the columns of a dataset. Let's investigate the `redwine` dataset:"
   ]
  },
  {
   "cell_type": "code",
   "execution_count": null,
   "metadata": {
    "ExecuteTime": {
     "end_time": "2018-03-12T16:27:23.317315Z",
     "start_time": "2018-03-12T16:27:23.300580Z"
    }
   },
   "outputs": [],
   "source": [
    "redwine.info()  # This prints out some basic stats about the data"
   ]
  },
  {
   "cell_type": "markdown",
   "metadata": {},
   "source": [
    "From this summary we can see the names of our columns, the number of non-empty rows, and the type of each column. In our case they are all floating point numbers (```float64```) except the last one, the quality, which is an integer. We can also use the `.columns` attribute to obtain a list of the columns:"
   ]
  },
  {
   "cell_type": "code",
   "execution_count": null,
   "metadata": {},
   "outputs": [],
   "source": [
    "redwine.columns"
   ]
  },
  {
   "cell_type": "markdown",
   "metadata": {},
   "source": [
    "We can access each column individually, using brackets and the column name:"
   ]
  },
  {
   "cell_type": "code",
   "execution_count": null,
   "metadata": {},
   "outputs": [],
   "source": [
    "redwine['alcohol']"
   ]
  },
  {
   "cell_type": "markdown",
   "metadata": {},
   "source": [
    "The records (rows) of the dataset are ordered. Every function that manipulates columns or the dataset will always return values in the same order. Furthermore, each record is uniquely identified by an _index_. This index allows to manipulate records individually, and to refer to specific records. This index is either:\n",
    "1. A column in the dataset (a name, an ID, ...)\n",
    "2. An additional column of numbers ranging from 0 to the size of the dataset -1 [by default].\n",
    "\n",
    "When displaying the dataset, the index is always displayed as the leftmost columns. Let's investigate what it is in our case:"
   ]
  },
  {
   "cell_type": "code",
   "execution_count": null,
   "metadata": {},
   "outputs": [],
   "source": [
    "redwine.head()"
   ]
  },
  {
   "cell_type": "markdown",
   "metadata": {},
   "source": [
    "Indeed, as no index was provided when creating the dataframe, `Pandas` resorted to the default integer range. We will see later how to change this index column in **Modifying the dataset**.\n",
    "\n",
    "**Exercise 2:** Use this integer index to access one specific record (say, the _third_ record) in the dataset, with the `.loc` attribute of a `pandas.DataFrame` (_is it a function?_):"
   ]
  },
  {
   "cell_type": "code",
   "execution_count": null,
   "metadata": {},
   "outputs": [],
   "source": [
    "# YOUR CODE HERE"
   ]
  },
  {
   "cell_type": "markdown",
   "metadata": {},
   "source": [
    "An operation that is often useful to **aggregate** the data using functions (either custom or predefined), such as the mean or the standard deviation. \n",
    "\n",
    "**Exercise 3:** Use the `.agg` method to compute the mean and standard deviation of each column of a dataset. _What does this function return?_"
   ]
  },
  {
   "cell_type": "code",
   "execution_count": null,
   "metadata": {},
   "outputs": [],
   "source": [
    "# YOUR CODE HERE"
   ]
  },
  {
   "cell_type": "markdown",
   "metadata": {},
   "source": [
    "You should find that the mean fixed acidity is about 8.3196, with a std of 1.74. Is it what you observe?"
   ]
  },
  {
   "cell_type": "markdown",
   "metadata": {},
   "source": [
    "## Modifying the dataset\n",
    "\n",
    "It can be very useful to modify datasets. `Pandas` has a lot of functions you can use to append columns, modify them _en masse_, and so on. Here, we will only use a few of them, to illustrate some of the capabilities of the framework.\n",
    "\n",
    "But first, let's go back to the \"**index**\" column (which uniquely identifies each row). Let's see what it is for the redwine dataset:"
   ]
  },
  {
   "cell_type": "code",
   "execution_count": null,
   "metadata": {},
   "outputs": [],
   "source": [
    "redwine.index"
   ]
  },
  {
   "cell_type": "markdown",
   "metadata": {},
   "source": [
    "As no column was specified as the index when loading the dataset, Pandas resorted to the default (an integer ranging from 0 to the number of records). It is possible to define another column to be the index. For this, let's first add a column corresponding to the (fake) names of our wines. We will generate names by taking words composed of 3 letters, so that each element in the index column is unique. \n",
    "\n",
    "The code below generate a list of potential names (in this case, triplets of letters in alphabetical order)."
   ]
  },
  {
   "cell_type": "code",
   "execution_count": null,
   "metadata": {
    "collapsed": true
   },
   "outputs": [],
   "source": [
    "# create wine names using combinations of letters, ordered\n",
    "letters = 'abcdefghijkl'\n",
    "names = []\n",
    "\n",
    "# could also be done with the itertools module ;)\n",
    "for a in letters:\n",
    "    for b in letters:\n",
    "        for c in letters:\n",
    "            names.append(a+b+c)"
   ]
  },
  {
   "cell_type": "markdown",
   "metadata": {},
   "source": [
    "**Exercise 4**: Add a `name` column to the dataset (using indexing notation), and set it as the index (since each name is unique, this works), using the `set_index` method.\n",
    "\n",
    "_Hint: beware of the `inplace` argument. Why is it useful?_"
   ]
  },
  {
   "cell_type": "code",
   "execution_count": null,
   "metadata": {
    "collapsed": true
   },
   "outputs": [],
   "source": [
    "## YOUR CODE HERE"
   ]
  },
  {
   "cell_type": "code",
   "execution_count": null,
   "metadata": {},
   "outputs": [],
   "source": [
    "redwine.head(5) # observe that `name` has a special place (where there used to be numbers)"
   ]
  },
  {
   "cell_type": "markdown",
   "metadata": {},
   "source": [
    "The index, as it identifies uniquely every row, can be used to:\n",
    "1. Retrieve one particular record, using `redwine.loc`, for instance to modify it.\n",
    "2. Iterate over records using the index.\n",
    "\n",
    "Let us start by accessing and modifying one record."
   ]
  },
  {
   "cell_type": "code",
   "execution_count": null,
   "metadata": {
    "scrolled": true
   },
   "outputs": [],
   "source": [
    "gig = redwine.loc['gig']  # this is a particularly groovy wine\n",
    "# gig is now an individual record\n",
    "gig"
   ]
  },
  {
   "cell_type": "code",
   "execution_count": null,
   "metadata": {},
   "outputs": [],
   "source": [
    "# you can access individual attributes\n",
    "gig.quality"
   ]
  },
  {
   "cell_type": "markdown",
   "metadata": {},
   "source": [
    "**Exercise 5.1**: Let's assume that the quality of wine `gig` was mistakenly encoded, and should be 5 instead. Modify the `quality` of this record in the database.\n",
    "\n",
    "_Hint: what happens if you modify `gig` directly?_"
   ]
  },
  {
   "cell_type": "code",
   "execution_count": null,
   "metadata": {},
   "outputs": [],
   "source": [
    "# YOUR CODE HERE"
   ]
  },
  {
   "cell_type": "markdown",
   "metadata": {},
   "source": [
    "As stated earlier, you can use the index to iterate over a dataframe.\n",
    "\n",
    "**Exercise 5.2**: compute the average `pH` of all wines whose name contains the letter \"f\", by iterating over all records."
   ]
  },
  {
   "cell_type": "code",
   "execution_count": null,
   "metadata": {},
   "outputs": [],
   "source": [
    "## YOUR CODE HERE"
   ]
  },
  {
   "cell_type": "markdown",
   "metadata": {},
   "source": [
    "Do you find 3.325?"
   ]
  },
  {
   "cell_type": "markdown",
   "metadata": {},
   "source": [
    "We can _remove_ records from a dataframe using the `drop` function (which can also remove columns -- `Pandas` functions are usually very versatile).\n",
    "\n",
    "**Exercise 6**: Use the `drop` function to remove `gig` from the database. "
   ]
  },
  {
   "cell_type": "code",
   "execution_count": null,
   "metadata": {
    "collapsed": true
   },
   "outputs": [],
   "source": [
    "## YOUR CODE HERE"
   ]
  },
  {
   "cell_type": "markdown",
   "metadata": {},
   "source": [
    "Sanity check: is the record still in the dataset?"
   ]
  },
  {
   "cell_type": "code",
   "execution_count": null,
   "metadata": {
    "scrolled": true
   },
   "outputs": [],
   "source": [
    "redwine.loc['gig'] # this should raise a nasty error :'("
   ]
  },
  {
   "cell_type": "markdown",
   "metadata": {},
   "source": [
    "## Visualising the data\n",
    "\n",
    "Now, let's visualise the data in a more useful way. For this, we will use the `matplotlib` library. We first need to import it and add the `magic` modifier `%matplotlib inline` to make sure that graphs are displayed in this notebook."
   ]
  },
  {
   "cell_type": "code",
   "execution_count": null,
   "metadata": {
    "collapsed": true
   },
   "outputs": [],
   "source": [
    "import matplotlib.pyplot as plt\n",
    "# this line is necessary to make figures appear nicely in the notebook\n",
    "%matplotlib inline"
   ]
  },
  {
   "cell_type": "markdown",
   "metadata": {},
   "source": [
    "**Exercise 7.1:** Draw a scatter plot of `pH` against `citric acid` to see if there is a relationship between the two.\n",
    "\n",
    "_hint: you can access the values of a column (ordered by index) using `redwine[columnname]`._"
   ]
  },
  {
   "cell_type": "code",
   "execution_count": null,
   "metadata": {
    "ExecuteTime": {
     "end_time": "2018-03-12T16:27:23.971196Z",
     "start_time": "2018-03-12T16:27:23.693067Z"
    }
   },
   "outputs": [],
   "source": [
    "# YOUR CODE HERE"
   ]
  },
  {
   "cell_type": "markdown",
   "metadata": {},
   "source": [
    "Intuitively, the ```pH``` level decreases as the concentration of ```citric acid``` increases. \n",
    "\n",
    "**Exercise 7.2**: What about wine ```density``` against ```alcohol``` level? What is your intuition? Confirm it using another scatter plot."
   ]
  },
  {
   "cell_type": "code",
   "execution_count": null,
   "metadata": {
    "ExecuteTime": {
     "end_time": "2018-03-12T16:27:24.245086Z",
     "start_time": "2018-03-12T16:27:23.973395Z"
    }
   },
   "outputs": [],
   "source": [
    "# YOUR CODE HERE"
   ]
  },
  {
   "cell_type": "markdown",
   "metadata": {},
   "source": [
    "It seems that there is some correlation here as the alcohol level goes up.\n",
    "\n",
    "What if we wanted to see this effect but only for wines that are bad?\n",
    "\n",
    "First we will have to find out what is bad wine. We will define it as wines that have a lower than average quality score.  \n",
    "\n",
    "Therefore we must first find the mean value of the ```quality``` column."
   ]
  },
  {
   "cell_type": "code",
   "execution_count": null,
   "metadata": {
    "ExecuteTime": {
     "end_time": "2018-03-12T16:27:24.266941Z",
     "start_time": "2018-03-12T16:27:24.252737Z"
    }
   },
   "outputs": [],
   "source": [
    "redwine['quality']"
   ]
  },
  {
   "cell_type": "markdown",
   "metadata": {},
   "source": [
    "Pandas columns are ```pandas.Series``` objects and have most of the functionality of ```numpy arrays```. This means we can use mean, median and sum calculations.\n",
    "\n",
    "**Exercise 8:** Compute the mean quality of wines in the dataset."
   ]
  },
  {
   "cell_type": "code",
   "execution_count": null,
   "metadata": {
    "ExecuteTime": {
     "end_time": "2018-03-12T16:27:24.274033Z",
     "start_time": "2018-03-12T16:27:24.270291Z"
    },
    "collapsed": true
   },
   "outputs": [],
   "source": [
    "## YOUR CODE HERE"
   ]
  },
  {
   "cell_type": "code",
   "execution_count": null,
   "metadata": {
    "ExecuteTime": {
     "end_time": "2018-03-12T16:27:24.282889Z",
     "start_time": "2018-03-12T16:27:24.278606Z"
    }
   },
   "outputs": [],
   "source": [
    "print(ave_quality)"
   ]
  },
  {
   "cell_type": "markdown",
   "metadata": {},
   "source": [
    "Now that we know the mean, how do we select only those rows that have a quality value less than ```ave_quality```?\n",
    "\n",
    "We can _slice_ a ```pandas.DataFrame``` object by indexing it with conditional statements. \n",
    "This is because a conditional statement on on a dataframe returns a series of boolean values.\n",
    "See the example below. "
   ]
  },
  {
   "cell_type": "code",
   "execution_count": null,
   "metadata": {
    "ExecuteTime": {
     "end_time": "2018-03-12T16:27:24.299242Z",
     "start_time": "2018-03-12T16:27:24.285649Z"
    },
    "scrolled": true
   },
   "outputs": [],
   "source": [
    "# using a conditional statement on a pandas dataframe directly\n",
    "redwine['quality'] < ave_quality"
   ]
  },
  {
   "cell_type": "markdown",
   "metadata": {},
   "source": [
    "We can now pass this series of boolean values directly to a dataframe as we would a column. \n",
    "i.e. ```redwine[redwine['quality'] < ave_quality]``` returns only those rows in ```redwine``` where the value of the ```'quality'``` column is less than the value of ```ave_quality```. "
   ]
  },
  {
   "cell_type": "code",
   "execution_count": null,
   "metadata": {
    "ExecuteTime": {
     "end_time": "2018-03-12T16:27:24.309508Z",
     "start_time": "2018-03-12T16:27:24.303569Z"
    },
    "collapsed": true
   },
   "outputs": [],
   "source": [
    "# new dataframe with only the data about the dead\n",
    "badwine = redwine[redwine['quality'] < ave_quality]"
   ]
  },
  {
   "cell_type": "code",
   "execution_count": null,
   "metadata": {
    "ExecuteTime": {
     "end_time": "2018-03-12T16:27:24.326000Z",
     "start_time": "2018-03-12T16:27:24.312505Z"
    }
   },
   "outputs": [],
   "source": [
    "# Some summary statistics\n",
    "badwine.info()"
   ]
  },
  {
   "cell_type": "code",
   "execution_count": null,
   "metadata": {
    "ExecuteTime": {
     "end_time": "2018-03-12T16:27:24.357918Z",
     "start_time": "2018-03-12T16:27:24.328085Z"
    }
   },
   "outputs": [],
   "source": [
    "# print the first 5 rows\n",
    "badwine.head()"
   ]
  },
  {
   "cell_type": "markdown",
   "metadata": {},
   "source": [
    "Let's now explore how the relationships we studied before change for bad wine.\n",
    "\n",
    "**Exercise 9:** Plot the alcohol level versus density for both `redwine` and `badwine` on the same figure. Also, add some labels on the axis and a legend to have a nice plot to show your friends.\n",
    "\n",
    "_Hint: use the alpha parameter to make points transparent._"
   ]
  },
  {
   "cell_type": "code",
   "execution_count": null,
   "metadata": {
    "ExecuteTime": {
     "end_time": "2018-03-12T16:27:25.231519Z",
     "start_time": "2018-03-12T16:27:24.958643Z"
    }
   },
   "outputs": [],
   "source": [
    "## YOUR CODE HERE"
   ]
  },
  {
   "cell_type": "markdown",
   "metadata": {},
   "source": [
    "Much more interesting. \n",
    "\n",
    "Not only do we find that ```density``` is related to ```alcohol``` but also that the bad wines tend to overall have a lower ```alcohol``` level. \n",
    "\n",
    "Perhaps ```alcohol``` is very important in wine quality. In order to check this, let's study what the alcohol level is in our dataset.\n",
    "\n",
    "**Exercise 10.1:** Plot a histogram of alcohol level of all wines."
   ]
  },
  {
   "cell_type": "code",
   "execution_count": null,
   "metadata": {
    "ExecuteTime": {
     "end_time": "2018-03-12T16:27:25.489992Z",
     "start_time": "2018-03-12T16:27:25.233694Z"
    }
   },
   "outputs": [],
   "source": [
    "## YOUR CODE HERE"
   ]
  },
  {
   "cell_type": "markdown",
   "metadata": {},
   "source": [
    "On the y axis we see the frequency of ```alcohol``` levels specified on the x axis. \n",
    "\n",
    "**Exercise 10.2**: Plot two histograms of alcohol level, one for all wines and the other for bad wines.\n",
    "\n",
    "_Hint: think of normalising your histograms to make them comparable._"
   ]
  },
  {
   "cell_type": "code",
   "execution_count": null,
   "metadata": {
    "ExecuteTime": {
     "end_time": "2018-03-12T16:27:25.828590Z",
     "start_time": "2018-03-12T16:27:25.492149Z"
    }
   },
   "outputs": [],
   "source": [
    "# YOUR CODE HERE"
   ]
  },
  {
   "cell_type": "markdown",
   "metadata": {},
   "source": [
    "We can now see very clearly that the _bad wine_ clearly has a lower ```alcohol``` content as the red histogram (corresponding to bad wines) is tighter around lower ```alcohol``` values! "
   ]
  },
  {
   "cell_type": "markdown",
   "metadata": {},
   "source": [
    "## The `groupby` function\n",
    "\n",
    "A function that we will use extensively in the course is the `groupby` function. It is a (very) versatile function to \"divide\" the dataset in several subdatasets. This method takes as argument (among many other possibilities) one or several columns, and returns a series of `pandas` dataframes whose records all share the same values for the specific columns. Let's first create a `good` column, that is True if the wine is good, according to our previous criterion."
   ]
  },
  {
   "cell_type": "code",
   "execution_count": null,
   "metadata": {
    "collapsed": true
   },
   "outputs": [],
   "source": [
    "redwine['good'] = redwine['quality'] > ave_quality"
   ]
  },
  {
   "cell_type": "code",
   "execution_count": null,
   "metadata": {},
   "outputs": [],
   "source": [
    "redwine.head(5)"
   ]
  },
  {
   "cell_type": "markdown",
   "metadata": {},
   "source": [
    "**Exercise 11.1: ** group the wine according to whether it is group or bad, using the `groupby` function, and display both datasets. What does groupby return?"
   ]
  },
  {
   "cell_type": "code",
   "execution_count": null,
   "metadata": {},
   "outputs": [],
   "source": [
    "## YOUR CODE HERE"
   ]
  },
  {
   "cell_type": "markdown",
   "metadata": {},
   "source": [
    "`Groupby` is a very powerful tool, that can be used to do much more. The attribute that it is being passed can be many different things:\n",
    "1. A single column, as we did before, which groups by value of the column.\n",
    "2. A list of columns, in which case the results are grouped by tuples of values of the columns (for instance, `(1,1)`, `(1,2)`, `(2,1)` and `(2,2)`).\n",
    "3. A function (or list of functions) of _the index_, which then groups by lists of values returned by the function."
   ]
  },
  {
   "cell_type": "markdown",
   "metadata": {},
   "source": [
    "**Exercise 11.2**: Create a `strong` column in the dataset, which is True for wines that are stronger than average and False otherwise, then use `groupby` to group by `good` and `strong`. Count and display the number of wines in each group."
   ]
  },
  {
   "cell_type": "code",
   "execution_count": null,
   "metadata": {},
   "outputs": [],
   "source": [
    "## YOUR CODE HERE"
   ]
  },
  {
   "cell_type": "markdown",
   "metadata": {},
   "source": [
    "_A bit more sophisticated._ \n",
    "A useful operation is to aggregate the data after a group by (for instance, to obtain the mean of a column when restricted to some set of attributes). This can be done using the (same) `.agg` function to aggregate the data in some statistics."
   ]
  },
  {
   "cell_type": "code",
   "execution_count": null,
   "metadata": {
    "scrolled": true
   },
   "outputs": [],
   "source": [
    "redwine.groupby(['pH', 'good']).agg(['mean', 'std'])"
   ]
  },
  {
   "cell_type": "markdown",
   "metadata": {},
   "source": [
    "The structure of this `DataFrame` is weird: the index is composed of a pair `(pH, good)`, which in practice is not very useful. For this, one can `reset` the index, to go back to the default behaviour. Thus, the final line looks like this:"
   ]
  },
  {
   "cell_type": "code",
   "execution_count": null,
   "metadata": {
    "scrolled": true
   },
   "outputs": [],
   "source": [
    "redwine.groupby(['pH', 'good']).agg(['mean', 'std']).reset_index()"
   ]
  }
 ],
 "metadata": {
  "kernelspec": {
   "display_name": "Python 3",
   "language": "python",
   "name": "python3"
  },
  "language_info": {
   "codemirror_mode": {
    "name": "ipython",
    "version": 3
   },
   "file_extension": ".py",
   "mimetype": "text/x-python",
   "name": "python",
   "nbconvert_exporter": "python",
   "pygments_lexer": "ipython3",
   "version": "3.6.2"
  },
  "toc": {
   "nav_menu": {},
   "number_sections": true,
   "sideBar": true,
   "skip_h1_title": false,
   "title_cell": "Table of Contents",
   "title_sidebar": "Contents",
   "toc_cell": false,
   "toc_position": {},
   "toc_section_display": true,
   "toc_window_display": false
  }
 },
 "nbformat": 4,
 "nbformat_minor": 2
}
