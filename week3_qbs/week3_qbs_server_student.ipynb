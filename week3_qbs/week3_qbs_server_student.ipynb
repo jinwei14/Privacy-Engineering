{
 "cells": [
  {
   "cell_type": "markdown",
   "metadata": {},
   "source": [
    "# Teacher only: server"
   ]
  },
  {
   "cell_type": "code",
   "execution_count": 1,
   "metadata": {
    "collapsed": true
   },
   "outputs": [],
   "source": [
    "import socket\n",
    "import pandas as pd\n",
    "import numpy as np\n",
    "import random\n",
    "import threading"
   ]
  },
  {
   "cell_type": "markdown",
   "metadata": {},
   "source": [
    "## Loading the database"
   ]
  },
  {
   "cell_type": "code",
   "execution_count": 2,
   "metadata": {
    "collapsed": true
   },
   "outputs": [],
   "source": [
    "database_filename = 'ADULT.csv'"
   ]
  },
  {
   "cell_type": "code",
   "execution_count": 3,
   "metadata": {
    "collapsed": true
   },
   "outputs": [],
   "source": [
    "column_names = ['age', \n",
    "           'workclass', \n",
    "           'fnlwgt', \n",
    "           'education', \n",
    "           'education_num', \n",
    "           'marital_status', \n",
    "           'occupation', \n",
    "           'relationship', \n",
    "           'race', \n",
    "           'sex', \n",
    "           'capital_gain', \n",
    "           'capital_loss', \n",
    "           'hours_per_week', \n",
    "           'native_country', \n",
    "           'salaryclass']"
   ]
  },
  {
   "cell_type": "code",
   "execution_count": 4,
   "metadata": {
    "collapsed": true
   },
   "outputs": [],
   "source": [
    "pdb = pd.read_csv(\n",
    "    database_filename, \n",
    "    delimiter=',', \n",
    "    names=column_names\n",
    ")"
   ]
  },
  {
   "cell_type": "code",
   "execution_count": 5,
   "metadata": {
    "collapsed": true
   },
   "outputs": [],
   "source": [
    "# normalise\n",
    "cols = pdb.select_dtypes(include=['O']).columns\n",
    "for cname in cols:\n",
    "    pdb[cname] = pdb[cname].astype('category').cat.codes # pandas magic"
   ]
  },
  {
   "cell_type": "code",
   "execution_count": 6,
   "metadata": {
    "collapsed": true
   },
   "outputs": [],
   "source": [
    "def user_count(pdb, query):\n",
    "    'count users for a given query'\n",
    "    uset = pdb.query(query)\n",
    "    return len(uset.index)"
   ]
  },
  {
   "cell_type": "markdown",
   "metadata": {},
   "source": [
    "# Server\n",
    "\n",
    "In this portion of the Notebook we define the basic server function, and retrieve the **IP address** to show to students."
   ]
  },
  {
   "cell_type": "code",
   "execution_count": 7,
   "metadata": {
    "collapsed": true
   },
   "outputs": [],
   "source": [
    "HOST = 'localhost'"
   ]
  },
  {
   "cell_type": "code",
   "execution_count": 8,
   "metadata": {
    "collapsed": true
   },
   "outputs": [],
   "source": [
    "def query_server(port, serve, stop_event=None):\n",
    "    '''Run a query-based server on port `port`.\n",
    "       This opens a socket on (localhost, port), and \n",
    "       applies the function `serve` on the input.\n",
    "       `serve`: text --> value (or raises an exception).\n",
    "       The argument `stop_event` specifies a threading.Thread event\n",
    "        that will stop the server when set.'''\n",
    "    with socket.socket(socket.AF_INET, socket.SOCK_STREAM) as s:\n",
    "        s.bind((HOST,port))\n",
    "        print('STARTED SERVER AT %s:%d' % (HOST, port))\n",
    "        s.listen(10) # i dunno, 10 seems fine\n",
    "        # accept connections to the database\n",
    "        while True:\n",
    "            conn, addr = s.accept()\n",
    "            with conn:\n",
    "                # connection !\n",
    "                print('Connected by', addr)\n",
    "                # receive a query\n",
    "                query = conn.recv(1024).decode('utf-8')\n",
    "                # test it on the database\n",
    "                try:\n",
    "                    res = str(serve(query))\n",
    "                except Exception as err:\n",
    "                    res = 'ERROR ' + str(err)\n",
    "                # send answer lol\n",
    "                conn.send(res.encode('utf-8'))\n",
    "            # check whether to run the server some more\n",
    "            if stop_event is not None:\n",
    "                if stop_event.is_set():\n",
    "                    break\n",
    "    print('SERVER STOPPED')"
   ]
  },
  {
   "cell_type": "code",
   "execution_count": 9,
   "metadata": {
    "collapsed": true
   },
   "outputs": [],
   "source": [
    "def start_server_threaded(port, serve):\n",
    "    'starts a server, using `query_server`, and returns an Event to stop it'\n",
    "    stop_event = threading.Event()\n",
    "    thread = threading.Thread(target = lambda: query_server(port, serve, stop_event))\n",
    "    thread.start()\n",
    "    return stop_event"
   ]
  },
  {
   "cell_type": "markdown",
   "metadata": {},
   "source": [
    "## Query parsing\n",
    "\n",
    "We use a syntax similar to SQL, but restricted to `AND`, and conditions only in `==`, `>=`, `<=`, `<>`, `<` and `>`."
   ]
  },
  {
   "cell_type": "code",
   "execution_count": 10,
   "metadata": {
    "collapsed": true
   },
   "outputs": [],
   "source": [
    "sql_operators = ['>=', '<=', '<>', '<', '>', '=']\n",
    "pandas_operators = {'=':'==', '>=':'>=', '<=':'<=', '<>':'!=', '<':'<', '>':'>'}"
   ]
  },
  {
   "cell_type": "code",
   "execution_count": 11,
   "metadata": {
    "collapsed": true
   },
   "outputs": [],
   "source": [
    "def parse_query( query ):\n",
    "    'returns a list of conditions (column, panda_operator, value) or raises a syntax error'\n",
    "    # lower case only (all column names are in lc)\n",
    "    query = query.strip().lower()\n",
    "    query = query.replace(';', '') # just in case\n",
    "    # split by ` and `\n",
    "    conditions = query.split(' and ')\n",
    "    # parse the conditions\n",
    "    parsed_conditions = []\n",
    "    for c in conditions:\n",
    "        # 0. prevent common error\n",
    "        if '==' in c:\n",
    "            raise SyntaxError(\"'==' is not a valid SQL operator\")\n",
    "        if '!=' in c:\n",
    "            raise SyntaxError(\"'!=' is not a valid SQL operator\")\n",
    "        # 1. find the operator to use\n",
    "        operator = None\n",
    "        for op in sql_operators:\n",
    "            if op in c:\n",
    "                operator = op\n",
    "                break\n",
    "        if operator is None:\n",
    "            raise SyntaxError('No valid operator found in \"%s\".' % c)\n",
    "        # 2. split according to operator\n",
    "        column, value = [word.strip() for word in c.split(operator)]\n",
    "        if column not in column_names:\n",
    "            raise SyntaxError('Column \"%s\" does not exist.' % column)\n",
    "        # aaaaand add to the final result\n",
    "        parsed_conditions.append( (column, pandas_operators[operator], value) )\n",
    "    return parsed_conditions"
   ]
  },
  {
   "cell_type": "code",
   "execution_count": 12,
   "metadata": {
    "collapsed": true
   },
   "outputs": [],
   "source": [
    "def conditions_to_pandas(conditions):\n",
    "    return ' and '.join('%s %s %s' % x for x in conditions)"
   ]
  },
  {
   "cell_type": "code",
   "execution_count": 13,
   "metadata": {
    "collapsed": true
   },
   "outputs": [],
   "source": [
    "def convert_to_pandas( query ):\n",
    "    'converts a SQL query to a Pandas accepted query'\n",
    "    parsed_conditions = parse_query( query )\n",
    "    return conditions_to_pandas(parsed_conditions)"
   ]
  },
  {
   "cell_type": "markdown",
   "metadata": {},
   "source": [
    "# Exercise 1\n",
    "\n",
    "The first exercise is divided in three parts:\n",
    "1. a noise of $\\sim \\mathcal{N}(0, 5)$ is added to the results;\n",
    "2. queries with query set size <= 5 are suppressed;\n",
    "3. a combination of both.\n",
    "\n",
    "The first character of the query is either 'a', 'b' or 'c' to distinguish what exercise to serve."
   ]
  },
  {
   "cell_type": "code",
   "execution_count": 14,
   "metadata": {
    "collapsed": true
   },
   "outputs": [],
   "source": [
    "PORT_exercise_1    = 42420\n",
    "ex1_noise_variance = 5\n",
    "query_set_size     = 5"
   ]
  },
  {
   "cell_type": "code",
   "execution_count": 15,
   "metadata": {
    "collapsed": true
   },
   "outputs": [],
   "source": [
    "def simple_protection(query):\n",
    "    'mechanism: (a) adds normal independent noise, (b) suppresses small QS and (c) both'\n",
    "    exercise = query[0]\n",
    "    if exercise not in ['a', 'b', 'c']:\n",
    "        raise Exception('Unknown exercise: \"%s\"' % query[0])\n",
    "    # parse the query and apply mechanism\n",
    "    query = query[1:]\n",
    "    pandas_query = convert_to_pandas( query )\n",
    "    res = user_count(pdb, pandas_query)\n",
    "    # bucket suppression\n",
    "    if exercise in ['b', 'c'] and res < query_set_size:\n",
    "        return -1\n",
    "    # noise addition\n",
    "    noise = 0\n",
    "    if exercise in ['a', 'c']:\n",
    "        noise = np.random.normal(loc=0, scale=np.sqrt(ex1_noise_variance))\n",
    "    return res + noise"
   ]
  },
  {
   "cell_type": "markdown",
   "metadata": {},
   "source": [
    "### Running the server\n",
    "\n",
    "**Run this line of code to start the server on the specified port:**"
   ]
  },
  {
   "cell_type": "code",
   "execution_count": 16,
   "metadata": {},
   "outputs": [
    {
     "name": "stdout",
     "output_type": "stream",
     "text": [
      "STARTED SERVER AT localhost:42420\n"
     ]
    }
   ],
   "source": [
    "stop_event_ex1 = start_server_threaded(PORT_exercise_1, simple_protection)"
   ]
  },
  {
   "cell_type": "markdown",
   "metadata": {},
   "source": [
    "# Exercise 2\n",
    "\n",
    "In this exercise we add static noise, to prevent simple averaging attacks."
   ]
  },
  {
   "cell_type": "code",
   "execution_count": 17,
   "metadata": {},
   "outputs": [],
   "source": [
    "PORT_exercise_2 = 42422\n",
    "ex2_noise_variance = 2\n",
    "salt = 21003 # this salt makes our attack bad, at the very least"
   ]
  },
  {
   "cell_type": "code",
   "execution_count": 18,
   "metadata": {
    "collapsed": true
   },
   "outputs": [],
   "source": [
    "def static_noise(condition):\n",
    "    seed = salt + hash(''.join(condition))\n",
    "    np.random.seed(seed % (2**32-1))\n",
    "    return np.random.normal(loc=0, scale=np.sqrt(ex2_noise_variance))"
   ]
  },
  {
   "cell_type": "code",
   "execution_count": 19,
   "metadata": {
    "collapsed": true
   },
   "outputs": [],
   "source": [
    "def static_noise_protection(query):\n",
    "    conditions = parse_query(query)\n",
    "    pandas_query = conditions_to_pandas(conditions)\n",
    "    res = user_count(pdb, pandas_query)\n",
    "    if res < query_set_size:\n",
    "        return -1\n",
    "    static_noises = sum([static_noise(c) for c in conditions])\n",
    "    return res + static_noises"
   ]
  },
  {
   "cell_type": "markdown",
   "metadata": {},
   "source": [
    "### Running the server\n",
    "\n",
    "**Run this line of code to start the server on the specified port:**\n",
    "\n",
    "Actually, we need to serve one more query before the server stops (it is currently waiting for a connection). Hence, another TA should run a client server, and run _any_ query."
   ]
  },
  {
   "cell_type": "code",
   "execution_count": 20,
   "metadata": {},
   "outputs": [
    {
     "name": "stdout",
     "output_type": "stream",
     "text": [
      "STARTED SERVER AT localhost:42422\n",
      "Connected by ('127.0.0.1', 50501)\n",
      "Connected by ('127.0.0.1', 50502)\n",
      "Connected by ('127.0.0.1', 50504)\n",
      "Connected by ('127.0.0.1', 50505)\n",
      "Connected by ('127.0.0.1', 50506)\n",
      "Connected by ('127.0.0.1', 50507)\n"
     ]
    }
   ],
   "source": [
    "stop_event_ex2 = start_server_threaded(PORT_exercise_2, static_noise_protection)"
   ]
  }
 ],
 "metadata": {
  "anaconda-cloud": {},
  "kernelspec": {
   "display_name": "Python 3",
   "language": "python",
   "name": "python3"
  },
  "language_info": {
   "codemirror_mode": {
    "name": "ipython",
    "version": 3
   },
   "file_extension": ".py",
   "mimetype": "text/x-python",
   "name": "python",
   "nbconvert_exporter": "python",
   "pygments_lexer": "ipython3",
   "version": "3.7.0"
  }
 },
 "nbformat": 4,
 "nbformat_minor": 2
}
