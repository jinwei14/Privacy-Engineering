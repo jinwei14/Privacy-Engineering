{
 "cells": [
  {
   "cell_type": "markdown",
   "metadata": {},
   "source": [
    "# Exercise session 3: Query-based systems\n",
    "\n",
    "In this session, you will be given access to a private dataset through queries. You will be confronted to different noise-addition mechanisms that attempt to preserve the privacy of people in the datasets, and will develop attacks to obtain private information on users. "
   ]
  },
  {
   "cell_type": "markdown",
   "metadata": {},
   "source": [
    "## The dataset\n",
    "\n",
    "This dataset is a categorical dataset, containing records for 32561 people from a census. The columns of this dataset are:\n",
    "`age`, `workclass`, `fnlwgt`, `education`, `education-num`, `marital-status`, `occupation`, `relationship`, `race`, `sex`, `capital-gain`, `capital-loss`, `hours-per-week`, `native-country`, `salaryclass`. All of the column values have been replaced by integers.\n",
    "\n",
    "This dataset is hosted on a server (whose IP will be given to you). The different data protection mechanisms are hosted available on two different ports. The queries that you are allowed to send belong to a subset of SQL: \n",
    "\n",
    "$$\\texttt{condition} \\ \\ \\text{and} \\ \\ \\ldots \\ \\ \\text{and} \\ \\ \\texttt{condition}$$\n",
    "\n",
    "where `condition := columnname '<'|'>'|'<>'|'='|'<='|'>=' value`, and `value` is either an integer or an arithmetic expression that evaluates to an integer (e.g. `(2*2)`). Each of these queries returns the the _count_ of users who satisfy all conditions in the query. \n",
    "\n",
    "In this notebook, you will try and find the `salaryclass` of some users,  using only queries.. For simplicity, `salaryclass` is a binary attribute, where 0 corresponds to standard income and 1 is higher income."
   ]
  },
  {
   "cell_type": "code",
   "execution_count": 1,
   "metadata": {
    "collapsed": true
   },
   "outputs": [],
   "source": [
    "import socket\n",
    "import numpy as np\n",
    "import matplotlib.pyplot as plt\n",
    "%matplotlib inline"
   ]
  },
  {
   "cell_type": "code",
   "execution_count": 2,
   "metadata": {
    "collapsed": true
   },
   "outputs": [],
   "source": [
    "def remote_query(query, host, port):\n",
    "    '''This function uses a very simple socket protocol to send \n",
    "       queries to the database system.'''\n",
    "    with socket.socket(socket.AF_INET, socket.SOCK_STREAM) as s:\n",
    "        s.connect((host, port))\n",
    "        s.sendall(query.encode('utf-8'))\n",
    "        response = s.recv(1024).decode('utf-8')\n",
    "        if response.startswith('ERROR '):\n",
    "            raise Exception(response[6:])\n",
    "    return eval(response)"
   ]
  },
  {
   "cell_type": "markdown",
   "metadata": {},
   "source": [
    "The user you are asked to \"attack\" (let's call her Alice), has the following attributes:"
   ]
  },
  {
   "cell_type": "raw",
   "metadata": {},
   "source": [
    "age                  39\n",
    "workclass             7\n",
    "education             9\n",
    "education_num        13\n",
    "marital_status        4\n",
    "occupation            1\n",
    "relationship          1\n",
    "race                  4\n",
    "sex                   1\n",
    "capital_gain       2174\n",
    "capital_loss          0\n",
    "hours_per_week       40\n",
    "native_country       39\n",
    "salaryclass           ???"
   ]
  },
  {
   "cell_type": "code",
   "execution_count": 3,
   "metadata": {
    "collapsed": true
   },
   "outputs": [],
   "source": [
    "# Here are the attributes in Python form ;-)\n",
    "\n",
    "Alice = { 'age':            39,\n",
    "        'workclass':       7,\n",
    "        'education':       9,\n",
    "        'education_num':  13,\n",
    "        'marital_status':  4,\n",
    "        'occupation':      1,\n",
    "        'relationship':    1,\n",
    "        'race':            4,\n",
    "        'sex':             1,\n",
    "        'capital_gain': 2174,\n",
    "        'capital_loss':    0,\n",
    "        'hours_per_week': 40,\n",
    "        'native_country': 39 }"
   ]
  },
  {
   "cell_type": "markdown",
   "metadata": {},
   "source": [
    "These attributes will constitute your _background knowledge_ on the victim."
   ]
  },
  {
   "cell_type": "markdown",
   "metadata": {},
   "source": [
    "## Exercise 1: Two simple mechanisms\n",
    "\n",
    "In this exercise, you will break two simple mechanisms: noise addition, and query set size restriction. Each mechanism requires a different attack. Then, we will combine these mechanisms, and show that (at least in this case) they do no effectively protect the sensitive information.\n",
    "\n",
    "All of these queries will be sent to the same server, whose IP will be provided by the TA. The first character of each query will specify which mechanism to use (but we have already taken care of this by defining convenient functions for you to use)."
   ]
  },
  {
   "cell_type": "code",
   "execution_count": 4,
   "metadata": {
    "collapsed": true
   },
   "outputs": [],
   "source": [
    "HOST  = \"localhost\" # wait for the TA to give his IP address! \n",
    "PORT1 = 42420"
   ]
  },
  {
   "cell_type": "markdown",
   "metadata": {},
   "source": [
    "### Exercise 1a | Noise addition\n",
    "\n",
    "Firstly, you will interact with a very simple privacy mechanism, noise addition: the query-based system adds a noise $N \\sim \\mathcal{N}(0, 5)$ to the query's response. This noise is independent for each query.\n",
    "\n",
    "The following code defines the `query_1a` function that queries this specific system."
   ]
  },
  {
   "cell_type": "code",
   "execution_count": 5,
   "metadata": {
    "collapsed": true
   },
   "outputs": [],
   "source": [
    "# you can use a direct call to `query_1a(\"your query\")` for exercise 1.a\n",
    "query_1a = lambda query: remote_query('a'+query, HOST, PORT1)"
   ]
  },
  {
   "cell_type": "markdown",
   "metadata": {},
   "source": [
    "**Step 1:** Execute the following cell several times to see how the mechanism works. Feel free to change the query."
   ]
  },
  {
   "cell_type": "code",
   "execution_count": 6,
   "metadata": {},
   "outputs": [
    {
     "data": {
      "text/plain": [
       "570.4466558777632"
      ]
     },
     "execution_count": 6,
     "metadata": {},
     "output_type": "execute_result"
    }
   ],
   "source": [
    "query_1a('age = 32 and sex = 1')"
   ]
  },
  {
   "cell_type": "markdown",
   "metadata": {},
   "source": [
    "Since all you have access to are `COUNT` queries, you can't directly query the system to ask for Alice's `salaryclass`. There is a workaround, however: you can count the number of users who are Alice, _and_ have `salaryclass = 1`.\n",
    "\n",
    "**Step 2 _(action required)_**: Write and perform a query that targets specifically Alice and tests for `salaryclass = 1`. Is the result informative?\n",
    "\n",
    "_Your code should define a `query` variable._"
   ]
  },
  {
   "cell_type": "code",
   "execution_count": 7,
   "metadata": {},
   "outputs": [
    {
     "name": "stdout",
     "output_type": "stream",
     "text": [
      "-0.6064099642811462\n"
     ]
    }
   ],
   "source": [
    "# YOUR CODE HERE\n",
    "query = '' # YOUR QUERY HERE\n",
    "\n",
    "# ANSWER\n",
    "query = ' and '.join('%s = %s' % x for x in Alice.items())\n",
    "query += ' and salaryclass = 1'\n",
    "\n",
    "# WHAT HAPPENS WHEN YOU QUERY IT?\n",
    "print( query_1a(query) )"
   ]
  },
  {
   "cell_type": "markdown",
   "metadata": {},
   "source": [
    "As you learned in the class, such a simple mechanism falls to simple _averaging attacks_. By the central-limit theorem, repeating the query several times and taking the average reduces the variance of the noise, thus converging to the true answer.\n",
    "\n",
    "**Step 3 _(action required)_**: Given the distribution of the noise, propose a simple criterion to determine Alice's value, given the noisy samples. Compute how many queries you would need to have an error probability of less than 5%. This is a paper-and-pencil exercise."
   ]
  },
  {
   "cell_type": "markdown",
   "metadata": {},
   "source": [
    "_Your answer here._\n",
    "\n",
    "`SAMPLE ANSWER`\n",
    "\n",
    "Let's start with some notations. Let $b \\in \\{0,1\\}$ the true value for Alice. Each sample is thus $X_i = b + N_i \\sim \\mathcal{N}(b,5)$. The test we propose to use, if given $n$ results $x_i$, is to estimate Alice's value as $1$ if $\\frac{1}{n} \\sum_{i=1}^n x_i \\geq \\frac{1}{2}$ (one can show this is the maximum likelihood estimator). Denote by $\\hat{B}$ this estimate. We also denote $Y = \\frac{1}{n} \\sum_{i=1}^n X_i \\sim \\mathcal{N}(0, \\frac{5}{n})$.\n",
    "\n",
    "There are two possible errors: predicting 1 for a 0, and vice versa. Observe however that by symmetry of the Gaussian, these errors are the same: \n",
    "1. $P[\\hat{B} = 1~|~b=0] = P[Y \\geq 1/2]$\n",
    "2. $P[\\hat{B} = 0~|~b=1] = P[Y \\leq 1/2]$\n",
    "\n",
    "We define \"error\" to mean that the prediction we make is different from the true value $b$. This means:\n",
    "$$P[error] = P\\left[\\hat{B} = 0, b = 1\\right] + P\\left[\\hat{B} = 1, b = 0\\right]$$\n",
    "\n",
    "This means that the probability of error can be written as, independently of the probability distribution of $B$:\n",
    "$$P[error] = P[\\hat{B} = 1~|~b=0] \\cdot P[b=0] + P[\\hat{B} = 0~|~b=1] \\cdot P[b=1] = P[Y \\geq 1/2] \\cdot (P[b=0] + P[b=1]) = P[Y \\geq 1/2]$$\n",
    "\n",
    "Finally, we impose that this probability is less than 5% (denote $Z \\sim \\mathcal{N}(0,1)$ the standard gaussian):\n",
    "$$P[Y \\geq 1/2] = P[Z \\geq \\frac{1}{2 \\sqrt{5/n}}] \\leq 0.05$$\n",
    "\n",
    "Using the CDF of the Gaussian, we find the following contraint on $n$:\n",
    "$$\\frac{\\sqrt{n}}{2 \\sqrt{5}} \\geq z_{0.95} = 1.96$$\n",
    "\n",
    "And thus $n \\geq 2 \\cdot 1.96 \\cdot \\sqrt{5} = 8.77$. Hence, **9 queries should be enough**."
   ]
  },
  {
   "cell_type": "markdown",
   "metadata": {},
   "source": [
    "**Step 4 _(action required)_**: Perform the attack, using the `query` defined in step 2 and the number of queries you found in step 3."
   ]
  },
  {
   "cell_type": "code",
   "execution_count": 8,
   "metadata": {},
   "outputs": [
    {
     "name": "stdout",
     "output_type": "stream",
     "text": [
      "Samples collected: [0.5919117162387301, -0.9083897415305152, -4.3596113609169675, -4.294640456892898, -2.184741923151698, 2.4668840239893117, 1.6742469084835243, -2.52329920745126, 1.049336769997512]\n",
      "Average: -0.943144807915\n",
      "Alice's value is likely to be 0\n"
     ]
    }
   ],
   "source": [
    "# YOUR CODE HERE\n",
    "\n",
    "# ANSWER\n",
    "samples = []\n",
    "for x in range( 9 ):\n",
    "    samples.append(query_1a(query))\n",
    "\n",
    "average = np.mean(samples)\n",
    "decision = average >= 0.5\n",
    "\n",
    "print('Samples collected:', samples)\n",
    "print('Average:', average)\n",
    "print(\"Alice's value is likely to be\", int(decision))"
   ]
  },
  {
   "cell_type": "markdown",
   "metadata": {},
   "source": [
    "### Exercise 1b | Query set size restriction\n",
    "\n",
    "The previous mechanism fails easily, because it is easy to target Alice directly. Another option is to _suppress every query that selects too few users_. So we implemented another privacy mechanism that enforces a query set size restriction (without noise addition). Specifically, if the user count in the response is less than **5**, the query returns __-1__."
   ]
  },
  {
   "cell_type": "code",
   "execution_count": 9,
   "metadata": {
    "collapsed": true
   },
   "outputs": [],
   "source": [
    "# as before, you can use a direct call to `query1b(\"your query\")` for exercise 1.b\n",
    "query_1b = lambda query: remote_query('b'+query, HOST, PORT1)"
   ]
  },
  {
   "cell_type": "markdown",
   "metadata": {},
   "source": [
    "**Step 1**: what happens now, when you try your query from exercise 1.a ?"
   ]
  },
  {
   "cell_type": "code",
   "execution_count": 10,
   "metadata": {},
   "outputs": [
    {
     "data": {
      "text/plain": [
       "-1"
      ]
     },
     "execution_count": 10,
     "metadata": {},
     "output_type": "execute_result"
    }
   ],
   "source": [
    "query_1b( query )"
   ]
  },
  {
   "cell_type": "markdown",
   "metadata": {},
   "source": [
    "In this exercise, you will be asked to attack Bob, whose characteristics are as follows:"
   ]
  },
  {
   "cell_type": "code",
   "execution_count": 11,
   "metadata": {
    "collapsed": true
   },
   "outputs": [],
   "source": [
    "# Here are the attributes in Python form ;-)\n",
    "\n",
    "Bob = { 'age':           50,\n",
    "        'workclass':       6,\n",
    "        'education':       9,\n",
    "        'education_num':  13,\n",
    "        'marital_status':  2,\n",
    "        'occupation':      4,\n",
    "        'relationship':    0,\n",
    "        'race':            4,\n",
    "        'sex':             1,\n",
    "        'capital_gain':    0,\n",
    "        'capital_loss':    0,\n",
    "        'hours_per_week': 13,\n",
    "        'native_country': 39 }"
   ]
  },
  {
   "cell_type": "markdown",
   "metadata": {},
   "source": [
    "It doesn't work anymore. However, it does not mean that query set size restriction is the solution for privacy. Indeed, this technique is vulnerable to _intersection attacks_. The idea of an intersection attack is to perform two queries whose answers select several users, but with only one user as the difference between them. Thus, the difference of the two queries gives the exact answer for that user.\n",
    "\n",
    "Typically, they take the form:\n",
    "1. `Query1 = (condition1 and condition2 and ...)`\n",
    "2. `Query2 = Query1 and Discriminative condition`\n",
    "\n",
    "Where `Query1` relates to many users, and `Query2` relates to the same users as `Query1` **except for the target user** (for whom the `Discriminative condition` is false). To find these queries, use the target's values, and assert that the count for `Query2` is the same as for `Query1` _minus 1_.\n",
    "\n",
    "**Step 2  _(action required)_**: Using queries to the server, find (by trial and error) a pair `(Query1, Query2)` using the data _you know_ about Bob.\n",
    "\n",
    "_Your code should define two variables, called `query1` and `query2`._"
   ]
  },
  {
   "cell_type": "code",
   "execution_count": 12,
   "metadata": {},
   "outputs": [
    {
     "name": "stdout",
     "output_type": "stream",
     "text": [
      "103 102\n"
     ]
    }
   ],
   "source": [
    "### YOUR CODE HERE\n",
    "query1 = '' # YOUR QUERY HERE\n",
    "query2 = '' # YOUR QUERY HERE\n",
    "\n",
    "### ANSWER\n",
    "query1 = 'age = 50 and education = 9'\n",
    "query2 = query1 + ' and hours_per_week <> 13'\n",
    "\n",
    "# print the content\n",
    "print(query_1b(query1), query_1b(query2))\n",
    "\n",
    "# we get: 34 and 33 --> Bob is the only user with (age=39, workclass=7, capital_gain=2174) and many users\n",
    "#  have age = 39 and workclass = 7\n",
    "\n",
    "# The idea here is that we used capital_gain, a high entropy attribute, to discriminate Bob."
   ]
  },
  {
   "cell_type": "markdown",
   "metadata": {},
   "source": [
    "**Step 3 _(action required)_**: Using these queries, find Bob's (exact) secret value (you will need to adapt these queries to take into account the `salaryclass`)."
   ]
  },
  {
   "cell_type": "code",
   "execution_count": 13,
   "metadata": {
    "scrolled": true
   },
   "outputs": [
    {
     "name": "stdout",
     "output_type": "stream",
     "text": [
      "my guess is: salaryclass = 0\n"
     ]
    }
   ],
   "source": [
    "### YOUR CODE HERE\n",
    "\n",
    "### ANSWER\n",
    "guess = ' and salaryclass = 1'\n",
    "difference = query_1b(query1+guess) - query_1b(query2+guess)\n",
    "print('my guess is: salaryclass = %d' % (difference)) # if query1 = query2, then Bob is not part of query1 or query2 --> Bob's salaryclass is 0"
   ]
  },
  {
   "cell_type": "markdown",
   "metadata": {},
   "source": [
    "### Exercise 1c | Noise addition + Query set size restriction\n",
    "\n",
    "Finally, we could combine these two mechanisms to have a stronger mechanism. Mechanism 1c returns either (-1) if the query concerns less than 5 users, and otherwise the true answer + independent noise according to $\\mathcal{N}(0,5)$."
   ]
  },
  {
   "cell_type": "code",
   "execution_count": 14,
   "metadata": {
    "collapsed": true
   },
   "outputs": [],
   "source": [
    "# you can use a direct call to `query1(your_query)` for exercise 1.\n",
    "query_1c = lambda query: remote_query('c'+query, HOST, PORT1)"
   ]
  },
  {
   "cell_type": "markdown",
   "metadata": {},
   "source": [
    "**Step 1**: Use your query from exercise 1a. Is the result informative?"
   ]
  },
  {
   "cell_type": "code",
   "execution_count": 15,
   "metadata": {},
   "outputs": [
    {
     "data": {
      "text/plain": [
       "-1"
      ]
     },
     "execution_count": 15,
     "metadata": {},
     "output_type": "execute_result"
    }
   ],
   "source": [
    "query_1c(query)"
   ]
  },
  {
   "cell_type": "markdown",
   "metadata": {},
   "source": [
    "**Step 2**: Use `query1` and `query2` from exercise 1b. Are the results informative?"
   ]
  },
  {
   "cell_type": "code",
   "execution_count": 16,
   "metadata": {},
   "outputs": [
    {
     "name": "stdout",
     "output_type": "stream",
     "text": [
      "101.42392819189993 97.88585405814673\n"
     ]
    }
   ],
   "source": [
    "print(query_1c(query1), query_1c(query2))"
   ]
  },
  {
   "cell_type": "markdown",
   "metadata": {},
   "source": [
    "**Step 3  _(action required)_**: Adapt your attack from exercise 1b to attack this mechanism, and (again) find Bob's secret value. Does combining the mechanisms make them stronger?"
   ]
  },
  {
   "cell_type": "code",
   "execution_count": 17,
   "metadata": {},
   "outputs": [
    {
     "name": "stdout",
     "output_type": "stream",
     "text": [
      "my guess is: salaryclass = 0\n"
     ]
    }
   ],
   "source": [
    "### YOUR CODE HERE\n",
    "\n",
    "### ANSWER\n",
    "samples = [query_1b(query1+guess) - query_1b(query2+guess) for _ in range(9)]\n",
    "print('my guess is: salaryclass = %d' % (np.mean(samples) > 0.5))"
   ]
  }
 ],
 "metadata": {
  "anaconda-cloud": {},
  "kernelspec": {
   "display_name": "Python 3",
   "language": "python",
   "name": "python3"
  },
  "language_info": {
   "codemirror_mode": {
    "name": "ipython",
    "version": 3
   },
   "file_extension": ".py",
   "mimetype": "text/x-python",
   "name": "python",
   "nbconvert_exporter": "python",
   "pygments_lexer": "ipython3",
   "version": "3.6.2"
  }
 },
 "nbformat": 4,
 "nbformat_minor": 2
}
