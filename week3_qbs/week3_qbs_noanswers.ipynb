{
 "cells": [
  {
   "cell_type": "markdown",
   "metadata": {},
   "source": [
    "# Exercise session 3: Query-based systems\n",
    "\n",
    "In this session, you will be given access to a private dataset through queries. You will be confronted to different noise-addition mechanisms that attempt to preserve the privacy of people in the datasets, and will develop attacks to obtain private information on users. "
   ]
  },
  {
   "cell_type": "markdown",
   "metadata": {},
   "source": [
    "## The dataset\n",
    "\n",
    "This dataset is a categorical dataset, containing records for 32561 people from a census. The columns of this dataset are:\n",
    "`age`, `workclass`, `fnlwgt`, `education`, `education-num`, `marital-status`, `occupation`, `relationship`, `race`, `sex`, `capital-gain`, `capital-loss`, `hours-per-week`, `native-country`, `salaryclass`. All of the column values have been replaced by integers.\n",
    "\n",
    "This dataset is hosted on a server (whose IP will be given to you). The different data protection mechanisms are hosted available on two different ports. The queries that you are allowed to send belong to a subset of SQL: \n",
    "\n",
    "$$\\texttt{condition} \\ \\ \\text{and} \\ \\ \\ldots \\ \\ \\text{and} \\ \\ \\texttt{condition}$$\n",
    "\n",
    "where `condition := columnname '<'|'>'|'<>'|'='|'<='|'>=' value`, and `value` is either an integer or an arithmetic expression that evaluates to an integer (e.g. `(2*2)`). Each of these queries returns the the _count_ of users who satisfy all conditions in the query. \n",
    "\n",
    "In this notebook, you will try and find the `salaryclass` of some users,  using only queries.. For simplicity, `salaryclass` is a binary attribute, where 0 corresponds to standard income and 1 is higher income."
   ]
  },
  {
   "cell_type": "code",
   "execution_count": 11,
   "metadata": {
    "collapsed": true
   },
   "outputs": [],
   "source": [
    "import socket\n",
    "import numpy as np\n",
    "import matplotlib.pyplot as plt\n",
    "%matplotlib inline"
   ]
  },
  {
   "cell_type": "code",
   "execution_count": 12,
   "metadata": {
    "collapsed": true
   },
   "outputs": [],
   "source": [
    "def remote_query(query, host, port):\n",
    "    '''This function uses a very simple socket protocol to send \n",
    "       queries to the database system.'''\n",
    "    with socket.socket(socket.AF_INET, socket.SOCK_STREAM) as s:\n",
    "        s.connect((host, port))\n",
    "        s.sendall(query.encode('utf-8'))\n",
    "        response = s.recv(1024).decode('utf-8')\n",
    "        if response.startswith('ERROR '):\n",
    "            raise Exception(response[6:])\n",
    "    return eval(response)"
   ]
  },
  {
   "cell_type": "markdown",
   "metadata": {},
   "source": [
    "The user you are asked to \"attack\" (let's call her Alice), has the following attributes:"
   ]
  },
  {
   "cell_type": "raw",
   "metadata": {},
   "source": [
    "age                  39\n",
    "workclass             7\n",
    "education             9\n",
    "education_num        13\n",
    "marital_status        4\n",
    "occupation            1\n",
    "relationship          1\n",
    "race                  4\n",
    "sex                   1\n",
    "capital_gain       2174\n",
    "capital_loss          0\n",
    "hours_per_week       40\n",
    "native_country       39\n",
    "salaryclass           ???"
   ]
  },
  {
   "cell_type": "code",
   "execution_count": 13,
   "metadata": {
    "collapsed": true
   },
   "outputs": [],
   "source": [
    "# Here are the attributes in Python form ;-)\n",
    "\n",
    "Alice = { 'age':            39,\n",
    "        'workclass':       7,\n",
    "        'education':       9,\n",
    "        'education_num':  13,\n",
    "        'marital_status':  4,\n",
    "        'occupation':      1,\n",
    "        'relationship':    1,\n",
    "        'race':            4,\n",
    "        'sex':             1,\n",
    "        'capital_gain': 2174,\n",
    "        'capital_loss':    0,\n",
    "        'hours_per_week': 40,\n",
    "        'native_country': 39 }"
   ]
  },
  {
   "cell_type": "markdown",
   "metadata": {},
   "source": [
    "These attributes will constitute your _background knowledge_ on the victim."
   ]
  },
  {
   "cell_type": "markdown",
   "metadata": {},
   "source": [
    "## Exercise 1: Two simple mechanisms\n",
    "\n",
    "In this exercise, you will break two simple mechanisms: noise addition, and query set size restriction. Each mechanism requires a different attack. Then, we will combine these mechanisms, and show that (at least in this case) they do no effectively protect the sensitive information.\n",
    "\n",
    "All of these queries will be sent to the same server, whose IP will be provided by the TA. The first character of each query will specify which mechanism to use (but we have already taken care of this by defining convenient functions for you to use)."
   ]
  },
  {
   "cell_type": "code",
   "execution_count": 14,
   "metadata": {
    "collapsed": true
   },
   "outputs": [],
   "source": [
    "HOST  = \"localhost\" # wait for the TA to give his IP address! \n",
    "PORT1 = 42420"
   ]
  },
  {
   "cell_type": "markdown",
   "metadata": {},
   "source": [
    "### Exercise 1a | Noise addition\n",
    "\n",
    "Firstly, you will interact with a very simple privacy mechanism, noise addition: the query-based system adds a noise $N \\sim \\mathcal{N}(0, 5)$ to the query's response. This noise is independent for each query.\n",
    "\n",
    "The following code defines the `query_1a` function that queries this specific system."
   ]
  },
  {
   "cell_type": "code",
   "execution_count": 15,
   "metadata": {
    "collapsed": true
   },
   "outputs": [],
   "source": [
    "# you can use a direct call to `query_1a(\"your query\")` for exercise 1.a\n",
    "query_1a = lambda query: remote_query('a'+query, HOST, PORT1)"
   ]
  },
  {
   "cell_type": "markdown",
   "metadata": {},
   "source": [
    "**Step 1:** Execute the following cell several times to see how the mechanism works. Feel free to change the query."
   ]
  },
  {
   "cell_type": "code",
   "execution_count": 16,
   "metadata": {},
   "outputs": [
    {
     "data": {
      "text/plain": [
       "571.4142987975497"
      ]
     },
     "execution_count": 16,
     "metadata": {},
     "output_type": "execute_result"
    }
   ],
   "source": [
    "query_1a('age = 32 and sex = 1') # numebr of people"
   ]
  },
  {
   "cell_type": "markdown",
   "metadata": {},
   "source": [
    "Since all you have access to are `COUNT` queries, you can't directly query the system to ask for Alice's `salaryclass`. There is a workaround, however: you can count the number of users who are Alice, _and_ have `salaryclass = 1`.\n",
    "\n",
    "**Step 2 _(action required)_**: Write and perform a query that targets specifically Alice and tests for `salaryclass = 1`. Is the result informative?\n",
    "\n",
    "_Your code should define a `query` variable._"
   ]
  },
  {
   "cell_type": "code",
   "execution_count": 17,
   "metadata": {},
   "outputs": [
    {
     "name": "stdout",
     "output_type": "stream",
     "text": [
      "0.6934154654204654\n"
     ]
    }
   ],
   "source": [
    "# YOUR CODE HERE\n",
    "query = '' # YOUR QUERY HERE\n",
    "\n",
    "# ANSWER\n",
    "query = ' and '.join('%s = %s' % x for x in Alice.items())\n",
    "query += ' and salaryclass = 1'\n",
    "\n",
    "# WHAT HAPPENS WHEN YOU QUERY IT?\n",
    "print( query_1a(query) )"
   ]
  },
  {
   "cell_type": "markdown",
   "metadata": {},
   "source": [
    "As you learned in the class, such a simple mechanism falls to simple _averaging attacks_. By the central-limit theorem, repeating the query several times and taking the average reduces the variance of the noise, thus converging to the true answer.\n",
    "\n",
    "**Step 3 _(action required)_**: Given the distribution of the noise, propose a simple criterion to determine Alice's value, given the noisy samples. Compute how many queries you would need to have an error probability of less than 5%. This is a paper-and-pencil exercise."
   ]
  },
  {
   "cell_type": "markdown",
   "metadata": {},
   "source": [
    "_Your answer here._\n"
   ]
  },
  {
   "cell_type": "markdown",
   "metadata": {},
   "source": [
    "**Step 4 _(action required)_**: Perform the attack, using the `query` defined in step 2 and the number of queries you found in step 3."
   ]
  },
  {
   "cell_type": "code",
   "execution_count": null,
   "metadata": {},
   "outputs": [],
   "source": [
    "# YOUR CODE HERE\n"
   ]
  },
  {
   "cell_type": "markdown",
   "metadata": {},
   "source": [
    "### Exercise 1b | Query set size restriction\n",
    "\n",
    "The previous mechanism fails easily, because it is easy to target Alice directly. Another option is to _suppress every query that selects too few users_. So we implemented another privacy mechanism that enforces a query set size restriction (without noise addition). Specifically, if the user count in the response is less than **5**, the query returns __-1__."
   ]
  },
  {
   "cell_type": "code",
   "execution_count": 18,
   "metadata": {
    "collapsed": true
   },
   "outputs": [],
   "source": [
    "# as before, you can use a direct call to `query1b(\"your query\")` for exercise 1.b\n",
    "query_1b = lambda query: remote_query('b'+query, HOST, PORT1)"
   ]
  },
  {
   "cell_type": "markdown",
   "metadata": {},
   "source": [
    "**Step 1**: what happens now, when you try your query from exercise 1.a ?"
   ]
  },
  {
   "cell_type": "code",
   "execution_count": 25,
   "metadata": {},
   "outputs": [
    {
     "ename": "NameError",
     "evalue": "name 'query_1b' is not defined",
     "output_type": "error",
     "traceback": [
      "\u001b[0;31m---------------------------------------------------------------------------\u001b[0m",
      "\u001b[0;31mNameError\u001b[0m                                 Traceback (most recent call last)",
      "\u001b[0;32m<ipython-input-25-346bf459dcdb>\u001b[0m in \u001b[0;36m<module>\u001b[0;34m()\u001b[0m\n\u001b[0;32m----> 1\u001b[0;31m \u001b[0mquery_1b\u001b[0m\u001b[0;34m(\u001b[0m \u001b[0mquery\u001b[0m \u001b[0;34m)\u001b[0m\u001b[0;34m\u001b[0m\u001b[0m\n\u001b[0m",
      "\u001b[0;31mNameError\u001b[0m: name 'query_1b' is not defined"
     ]
    }
   ],
   "source": [
    "query_1b( query )"
   ]
  },
  {
   "cell_type": "markdown",
   "metadata": {},
   "source": [
    "In this exercise, you will be asked to attack Bob, whose characteristics are as follows:"
   ]
  },
  {
   "cell_type": "code",
   "execution_count": null,
   "metadata": {
    "collapsed": true
   },
   "outputs": [],
   "source": [
    "# Here are the attributes in Python form ;-)\n",
    "\n",
    "Bob = { 'age':           50,\n",
    "        'workclass':       6,\n",
    "        'education':       9,\n",
    "        'education_num':  13,\n",
    "        'marital_status':  2,\n",
    "        'occupation':      4,\n",
    "        'relationship':    0,\n",
    "        'race':            4,\n",
    "        'sex':             1,\n",
    "        'capital_gain':    0,\n",
    "        'capital_loss':    0,\n",
    "        'hours_per_week': 13,\n",
    "        'native_country': 39 }"
   ]
  },
  {
   "cell_type": "markdown",
   "metadata": {},
   "source": [
    "It doesn't work anymore. However, it does not mean that query set size restriction is the solution for privacy. Indeed, this technique is vulnerable to _intersection attacks_. The idea of an intersection attack is to perform two queries whose answers select several users, but with only one user as the difference between them. Thus, the difference of the two queries gives the exact answer for that user.\n",
    "\n",
    "Typically, they take the form:\n",
    "1. `Query1 = (condition1 and condition2 and ...)`\n",
    "2. `Query2 = Query1 and Discriminative condition`\n",
    "\n",
    "Where `Query1` relates to many users, and `Query2` relates to the same users as `Query1` **except for the target user** (for whom the `Discriminative condition` is false). To find these queries, use the target's values, and assert that the count for `Query2` is the same as for `Query1` _minus 1_.\n",
    "\n",
    "**Step 2  _(action required)_**: Using queries to the server, find (by trial and error) a pair `(Query1, Query2)` using the data _you know_ about Bob.\n",
    "\n",
    "_Your code should define two variables, called `query1` and `query2`._"
   ]
  },
  {
   "cell_type": "code",
   "execution_count": 24,
   "metadata": {},
   "outputs": [
    {
     "ename": "NameError",
     "evalue": "name 'query_1b' is not defined",
     "output_type": "error",
     "traceback": [
      "\u001b[0;31m---------------------------------------------------------------------------\u001b[0m",
      "\u001b[0;31mNameError\u001b[0m                                 Traceback (most recent call last)",
      "\u001b[0;32m<ipython-input-24-b07bb7ef7a73>\u001b[0m in \u001b[0;36m<module>\u001b[0;34m()\u001b[0m\n\u001b[1;32m      8\u001b[0m \u001b[0;34m\u001b[0m\u001b[0m\n\u001b[1;32m      9\u001b[0m \u001b[0;31m# print the content\u001b[0m\u001b[0;34m\u001b[0m\u001b[0;34m\u001b[0m\u001b[0m\n\u001b[0;32m---> 10\u001b[0;31m \u001b[0mprint\u001b[0m\u001b[0;34m(\u001b[0m\u001b[0mquery_1b\u001b[0m\u001b[0;34m(\u001b[0m\u001b[0mquery1\u001b[0m\u001b[0;34m)\u001b[0m\u001b[0;34m,\u001b[0m \u001b[0mquery_1b\u001b[0m\u001b[0;34m(\u001b[0m\u001b[0mquery2\u001b[0m\u001b[0;34m)\u001b[0m\u001b[0;34m)\u001b[0m\u001b[0;34m\u001b[0m\u001b[0m\n\u001b[0m\u001b[1;32m     11\u001b[0m \u001b[0;34m\u001b[0m\u001b[0m\n\u001b[1;32m     12\u001b[0m \u001b[0;31m# we get: 34 and 33 --> Bob is the only user with (age=39, workclass=7, capital_gain=2174) and many users\u001b[0m\u001b[0;34m\u001b[0m\u001b[0;34m\u001b[0m\u001b[0m\n",
      "\u001b[0;31mNameError\u001b[0m: name 'query_1b' is not defined"
     ]
    }
   ],
   "source": [
    "### YOUR CODE HERE\n",
    "query1 = '' # YOUR QUERY HERE\n",
    "query2 = '' # YOUR QUERY HERE\n",
    "\n",
    "### ANSWER\n",
    "query1 = 'age = 50 and education = 9'\n",
    "query2 = query1 + ' and hours_per_week <> 13'\n",
    "\n",
    "# print the content\n",
    "print(query_1b(query1), query_1b(query2))\n",
    "\n",
    "# we get: 34 and 33 --> Bob is the only user with (age=39, workclass=7, capital_gain=2174) and many users\n",
    "#  have age = 39 and workclass = 7\n",
    "\n",
    "# The idea here is that we used capital_gain, a high entropy attribute, to discriminate Bob."
   ]
  },
  {
   "cell_type": "markdown",
   "metadata": {},
   "source": [
    "**Step 3 _(action required)_**: Using these queries, find Bob's (exact) secret value (you will need to adapt these queries to take into account the `salaryclass`)."
   ]
  },
  {
   "cell_type": "code",
   "execution_count": null,
   "metadata": {
    "scrolled": true
   },
   "outputs": [],
   "source": [
    "### YOUR CODE HERE\n"
   ]
  },
  {
   "cell_type": "markdown",
   "metadata": {},
   "source": [
    "### Exercise 1c | Noise addition + Query set size restriction\n",
    "\n",
    "Finally, we could combine these two mechanisms to have a stronger mechanism. Mechanism 1c returns either (-1) if the query concerns less than 5 users, and otherwise the true answer + independent noise according to $\\mathcal{N}(0,5)$."
   ]
  },
  {
   "cell_type": "code",
   "execution_count": null,
   "metadata": {
    "collapsed": true
   },
   "outputs": [],
   "source": [
    "# you can use a direct call to `query1(your_query)` for exercise 1.\n",
    "query_1c = lambda query: remote_query('c'+query, HOST, PORT1)"
   ]
  },
  {
   "cell_type": "markdown",
   "metadata": {},
   "source": [
    "**Step 1**: Use your query from exercise 1a. Is the result informative?"
   ]
  },
  {
   "cell_type": "code",
   "execution_count": null,
   "metadata": {},
   "outputs": [],
   "source": [
    "query_1c(query)"
   ]
  },
  {
   "cell_type": "markdown",
   "metadata": {},
   "source": [
    "**Step 2**: Use `query1` and `query2` from exercise 1b. Are the results informative?"
   ]
  },
  {
   "cell_type": "code",
   "execution_count": null,
   "metadata": {},
   "outputs": [],
   "source": [
    "print(query_1c(query1), query_1c(query2))"
   ]
  },
  {
   "cell_type": "markdown",
   "metadata": {},
   "source": [
    "**Step 3  _(action required)_**: Adapt your attack from exercise 1b to attack this mechanism, and (again) find Bob's secret value. Does combining the mechanisms make them stronger?"
   ]
  },
  {
   "cell_type": "code",
   "execution_count": null,
   "metadata": {},
   "outputs": [],
   "source": [
    "### YOUR CODE HERE\n"
   ]
  },
  {
   "cell_type": "markdown",
   "metadata": {},
   "source": [
    "## Exercise 2\n",
    "\n",
    "In this second exercise, the query-based system uses _static sticky noise_: it adds noise that depends on the conditions. That is, if a query $Q \\equiv$ `C1 and C2 and C3`\" is issued, our mechanism adds one fixed noise value per condition. The output to Q is then:\n",
    "\n",
    "$\\newcommand{\\static}{\\operatorname{static}}$\n",
    "$$\\widetilde{Q}(D) = Q(D) + \\static[\\text{C1}] + \\static[\\text{C2}] + \\static[\\text{C3}],$$\n",
    "\n",
    "where each $\\static[\\text{C}x]$ is a noise value drawn from a normal distribution. In this exercise, the mechanism draws from $\\mathcal{N}(0,2)$. This means that the noise level for one condition is low, but if you have many conditions in your query, the overall noise will be larger than for the first mechanism. Note that if a same condition is used several times (say, in subsequent queries), the same noise will be used every time for that condition.\n",
    "\n",
    "That is, when you query condition `C1`, a noise `n1` is added to the result (always the same noise), and so on. For instance, you would have the following behaviour, if you do these queries (in whatever order):\n",
    "- `C1` ==> answer1 + `n1`\n",
    "- `C1 and C2` ==>  answer2 + `n1` + `n2`\n",
    "- `C1 and C3` ==> answer3 + `n1` + `n3`\n",
    "- `C1` (again) ==> answer1 + `n1`\n",
    "\n",
    "In practice, this is implemented by [seeding](https://en.wikipedia.org/wiki/Random_seed) the random number generator (RNG) with a hash of the condition (XORed with some salt). The details of the implementation are not important to solve the exercise, but for more details you can look at the slides from last week.\n",
    "\n",
    "This mechanism thwarts the attack you developed in exercise 1a: repeating the query will always yield the same result.\n",
    "To make the mechanism more robust, it also implements query set size restriction, and will return -1 for every query whose user set contains less than 5 users."
   ]
  },
  {
   "cell_type": "code",
   "execution_count": 18,
   "metadata": {
    "collapsed": true
   },
   "outputs": [],
   "source": [
    "# this is running on a different port of the server!\n",
    "PORT2 = 42422"
   ]
  },
  {
   "cell_type": "code",
   "execution_count": 19,
   "metadata": {
    "collapsed": true
   },
   "outputs": [],
   "source": [
    "# same as for exercise 1, the function `query2` is defined for simplicity of use.\n",
    "query_2 = lambda query: remote_query(query, HOST, PORT2)"
   ]
  },
  {
   "cell_type": "markdown",
   "metadata": {},
   "source": [
    "In this exercise, you will attack Carl, whose characteristics are given below."
   ]
  },
  {
   "cell_type": "code",
   "execution_count": 20,
   "metadata": {
    "collapsed": true
   },
   "outputs": [],
   "source": [
    "Carl = { 'age':           43,\n",
    "        'workclass':       4,\n",
    "        'education':      15,\n",
    "        'education_num':  10,\n",
    "        'marital_status':  2,\n",
    "        'occupation':     13,\n",
    "        'relationship':    0,\n",
    "        'race':            2,\n",
    "        'sex':             1,\n",
    "        'capital_gain':    0,\n",
    "        'capital_loss':    0,\n",
    "        'hours_per_week': 40,\n",
    "        'native_country': 23 }"
   ]
  },
  {
   "cell_type": "markdown",
   "metadata": {},
   "source": [
    "**Background knowledge**: from your expert knowledge of the situation, you know that Carl is uniquely identified by his `age`, `marital_status`, and `native_country`. Furthermore, you suspect that _many_ people in the dataset share the same `age` and `marital_status` (hence, the `native_country` seems to be a good discriminative condition -- it's a very exotic country).\n",
    "\n",
    "_Why do we have to assume that the adversary knows that?_"
   ]
  },
  {
   "cell_type": "markdown",
   "metadata": {},
   "source": [
    "**Step 1**: Perform the following queries. Observe that the result you obtain is the same as your neighbour's. Why is that important?"
   ]
  },
  {
   "cell_type": "code",
   "execution_count": 21,
   "metadata": {},
   "outputs": [
    {
     "name": "stdout",
     "output_type": "stream",
     "text": [
      "Users aged 42:  \t 780.1392589592949\n",
      "Users aged 1000:\t -1\n",
      "Number of men:  \t 10771.640312715354\n"
     ]
    }
   ],
   "source": [
    "### try a few queries here\n",
    "print('Users aged 42:  \\t', query_2('age = 42'))\n",
    "print('Users aged 1000:\\t', query_2('age = 1000'))\n",
    "print('Number of men:  \\t', query_2('sex = 0'))"
   ]
  },
  {
   "cell_type": "markdown",
   "metadata": {},
   "source": [
    "**Step 2  _(action required)_**: Perform your attack 1c here (on Carl). Do you think the result is reliable?"
   ]
  },
  {
   "cell_type": "code",
   "execution_count": 22,
   "metadata": {},
   "outputs": [
    {
     "name": "stdout",
     "output_type": "stream",
     "text": [
      "-1\n"
     ]
    }
   ],
   "source": [
    "## YOUR CODE HERE\n",
    "\n",
    "query = ' and '.join('%s = %s' % x for x in Carl.items())\n",
    "\n",
    "\n",
    "# WHAT HAPPENS WHEN YOU QUERY IT?\n",
    "print( query_2(query) )"
   ]
  },
  {
   "cell_type": "markdown",
   "metadata": {},
   "source": [
    "_Spoiler alert_: this mechanism is still not secure. As you see, this mechanism is still vulnerable to **intersection attacks**. Even if the repeated queries return the same result, the noise on the response is actually _very low_. Why is that?\n",
    "\n",
    "**Step 3  _(action required)_**: What is the total noise on `query_2(query1) - query_2(query2)` ? Why is it low?"
   ]
  },
  {
   "cell_type": "markdown",
   "metadata": {},
   "source": [
    "_Your answer here._"
   ]
  },
  {
   "cell_type": "markdown",
   "metadata": {},
   "source": [
    "While the resulting noise is indeed _small_, the confidence on your result is low if you can only perform one query. Finding many `(query1, query2)` pairs can be difficult, especially using this more secure interface: it is hard to make sure that Carl is the only user in one query but not the other when the count you find is noisy. In this case, we assume that the pair you already have `(query1, query2)` is _background knowledge_: something you know about the dataset that you could not figure out by using queries. \n",
    "\n",
    "However, there is a trick to get more queries, using this single piece of background knowledge: modifying the queries so that they are _semantically equivalent_ but _syntactically different_. For instance, `sex=0` is equivalent to `sex <> 1`. This is called a **semantic attack**."
   ]
  },
  {
   "cell_type": "markdown",
   "metadata": {},
   "source": [
    "**Step 4  _(action required)_**: How many queries do you need for a 95% confidence, given that the noise on one condition is $\\mathcal{N}(0,2)$ ?"
   ]
  },
  {
   "cell_type": "markdown",
   "metadata": {},
   "source": [
    "_Your answer here._"
   ]
  },
  {
   "cell_type": "markdown",
   "metadata": {},
   "source": [
    "**Step 5  _(action required)_**: Vary _syntactically_ the `Discriminative condition` (while keeping the same _semantic_ meaning) to obtain independent samples in the difference attack (by obtaining different expressions for `query2`), in order to have enough queries for a confidence of 95%. Perform the attack. Do you obtain the correct result?\n",
    "\n",
    "_Hint: this SQL database supports arithmetic operations._"
   ]
  },
  {
   "cell_type": "code",
   "execution_count": 23,
   "metadata": {},
   "outputs": [
    {
     "ename": "NameError",
     "evalue": "name 'query1' is not defined",
     "output_type": "error",
     "traceback": [
      "\u001b[0;31m---------------------------------------------------------------------------\u001b[0m",
      "\u001b[0;31mNameError\u001b[0m                                 Traceback (most recent call last)",
      "\u001b[0;32m<ipython-input-23-e13242192ae3>\u001b[0m in \u001b[0;36m<module>\u001b[0;34m()\u001b[0m\n\u001b[1;32m      1\u001b[0m \u001b[0;31m### YOUR CODE HERE\u001b[0m\u001b[0;34m\u001b[0m\u001b[0;34m\u001b[0m\u001b[0m\n\u001b[1;32m      2\u001b[0m \u001b[0;31m### ANSWER\u001b[0m\u001b[0;34m\u001b[0m\u001b[0;34m\u001b[0m\u001b[0m\n\u001b[0;32m----> 3\u001b[0;31m \u001b[0msamples\u001b[0m \u001b[0;34m=\u001b[0m \u001b[0;34m[\u001b[0m\u001b[0mquery_2\u001b[0m\u001b[0;34m(\u001b[0m\u001b[0mquery1\u001b[0m\u001b[0;34m)\u001b[0m \u001b[0;34m-\u001b[0m \u001b[0mquery_2\u001b[0m\u001b[0;34m(\u001b[0m\u001b[0mquery2\u001b[0m\u001b[0;34m)\u001b[0m \u001b[0;32mfor\u001b[0m \u001b[0m_\u001b[0m \u001b[0;32min\u001b[0m \u001b[0mrange\u001b[0m\u001b[0;34m(\u001b[0m\u001b[0;36m9\u001b[0m\u001b[0;34m)\u001b[0m\u001b[0;34m]\u001b[0m\u001b[0;34m\u001b[0m\u001b[0m\n\u001b[0m\u001b[1;32m      4\u001b[0m \u001b[0mprint\u001b[0m\u001b[0;34m(\u001b[0m\u001b[0;34m'my guess is: salaryclass = %d'\u001b[0m \u001b[0;34m%\u001b[0m \u001b[0;34m(\u001b[0m\u001b[0mnp\u001b[0m\u001b[0;34m.\u001b[0m\u001b[0mmean\u001b[0m\u001b[0;34m(\u001b[0m\u001b[0msamples\u001b[0m\u001b[0;34m)\u001b[0m \u001b[0;34m>\u001b[0m \u001b[0;36m0.5\u001b[0m\u001b[0;34m)\u001b[0m\u001b[0;34m)\u001b[0m\u001b[0;34m\u001b[0m\u001b[0m\n",
      "\u001b[0;32m<ipython-input-23-e13242192ae3>\u001b[0m in \u001b[0;36m<listcomp>\u001b[0;34m(.0)\u001b[0m\n\u001b[1;32m      1\u001b[0m \u001b[0;31m### YOUR CODE HERE\u001b[0m\u001b[0;34m\u001b[0m\u001b[0;34m\u001b[0m\u001b[0m\n\u001b[1;32m      2\u001b[0m \u001b[0;31m### ANSWER\u001b[0m\u001b[0;34m\u001b[0m\u001b[0;34m\u001b[0m\u001b[0m\n\u001b[0;32m----> 3\u001b[0;31m \u001b[0msamples\u001b[0m \u001b[0;34m=\u001b[0m \u001b[0;34m[\u001b[0m\u001b[0mquery_2\u001b[0m\u001b[0;34m(\u001b[0m\u001b[0mquery1\u001b[0m\u001b[0;34m)\u001b[0m \u001b[0;34m-\u001b[0m \u001b[0mquery_2\u001b[0m\u001b[0;34m(\u001b[0m\u001b[0mquery2\u001b[0m\u001b[0;34m)\u001b[0m \u001b[0;32mfor\u001b[0m \u001b[0m_\u001b[0m \u001b[0;32min\u001b[0m \u001b[0mrange\u001b[0m\u001b[0;34m(\u001b[0m\u001b[0;36m9\u001b[0m\u001b[0;34m)\u001b[0m\u001b[0;34m]\u001b[0m\u001b[0;34m\u001b[0m\u001b[0m\n\u001b[0m\u001b[1;32m      4\u001b[0m \u001b[0mprint\u001b[0m\u001b[0;34m(\u001b[0m\u001b[0;34m'my guess is: salaryclass = %d'\u001b[0m \u001b[0;34m%\u001b[0m \u001b[0;34m(\u001b[0m\u001b[0mnp\u001b[0m\u001b[0;34m.\u001b[0m\u001b[0mmean\u001b[0m\u001b[0;34m(\u001b[0m\u001b[0msamples\u001b[0m\u001b[0;34m)\u001b[0m \u001b[0;34m>\u001b[0m \u001b[0;36m0.5\u001b[0m\u001b[0;34m)\u001b[0m\u001b[0;34m)\u001b[0m\u001b[0;34m\u001b[0m\u001b[0m\n",
      "\u001b[0;31mNameError\u001b[0m: name 'query1' is not defined"
     ]
    }
   ],
   "source": [
    "### YOUR CODE HERE\n",
    "### ANSWER\n",
    "samples = [query_2(query1) - query_2(query2) for _ in range(9)]\n",
    "print('my guess is: salaryclass = %d' % (np.mean(samples) > 0.5))"
   ]
  },
  {
   "cell_type": "code",
   "execution_count": null,
   "metadata": {},
   "outputs": [],
   "source": []
  }
 ],
 "metadata": {
  "anaconda-cloud": {},
  "kernelspec": {
   "display_name": "Python 3",
   "language": "python",
   "name": "python3"
  },
  "language_info": {
   "codemirror_mode": {
    "name": "ipython",
    "version": 3
   },
   "file_extension": ".py",
   "mimetype": "text/x-python",
   "name": "python",
   "nbconvert_exporter": "python",
   "pygments_lexer": "ipython3",
   "version": "3.7.0"
  }
 },
 "nbformat": 4,
 "nbformat_minor": 2
}
