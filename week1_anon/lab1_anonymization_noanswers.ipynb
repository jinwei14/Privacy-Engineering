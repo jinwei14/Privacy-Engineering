{
 "cells": [
  {
   "cell_type": "markdown",
   "metadata": {},
   "source": [
    "# Week 1: Pseudonymization and anonymization"
   ]
  },
  {
   "cell_type": "markdown",
   "metadata": {},
   "source": [
    "# Introduction\n",
    "\n",
    "In this first exercise session, you will try several \"anonymization\" techniques from the lecture on a dataset, and show the limitations of these techniques. In particular, you will first try several approaches to pseudonymise the dataset, and perform attacks on the pseudonymisation. Then, you will develop an algorithm to $k-$anonymise the dataset. Finally, you will show that even $k-$anonymisation is not perfect, as it allows for other attacks, such as a semantic attack.\n",
    "\n",
    "**Optional exercises**: Some exercises are marked as optional. Please complete the exercise session before coming back to them.\n",
    "\n",
    "You should try and do these exercises on our own (and not wait for any instructions from the tutors). We are of course available should you have any questions.\n",
    "_We are still developing and improving this module. For any question, comment or feedback, please feel free to send an email to [florimond@imperial.ac.uk](mailto:florimond@imperial.ac.uk)._"
   ]
  },
  {
   "cell_type": "markdown",
   "metadata": {},
   "source": [
    "### Description\n",
    "\n",
    "This is a real dataset of patient records from the German Health Care service in 1984, taken from the Journal of Applied Econometrics.  Attributes of the dataset are given below.  We have added a fictitious 5-digit identifier representing the last 5 digits of the person's phone number in that region: +49 21 801X XXXX.\n",
    "\n",
    "Source: Riphahn, Wambach, and Million, “Incentive Effects in the Demand for Health Care: A Bivariate Panel Count Data Estimation.”\n",
    "via. http://people.stern.nyu.edu/wgreene/Econometrics/PanelDataSets.htm"
   ]
  },
  {
   "cell_type": "markdown",
   "metadata": {},
   "source": [
    "For reference, the meaning of each attribute is:\n",
    "\n",
    "ID = last 5 digits of the phoner in that region +49 21 801X XXXX  _(The index of the dataset)_<br> \n",
    "FEMALE =  female = 1; male = 0<br>\n",
    "YEAR = calendar year of the observation<br>\n",
    "AGE = age in years<br>\n",
    "HANDDUM = handicapped = 1; otherwise = 0<br>\n",
    "HHNINC =  household nominal monthly net income in German marks / 10000<br>\n",
    "HHKIDS = children under age 16 in the household = 1; otherwise = 0<br>\n",
    "EDUC =  years of schooling<br>\n",
    "MARRIED =  married = 1; otherwise = 0<br>\n",
    "BLUEC = blue collar employee = 1; otherwise = 0<br>\n",
    "WHITEC = white collar employee = 1; otherwise = 0<br>\n",
    "SELF = self employed = 1; otherwise = 0<br>\n",
    "DOCVIS =  number of doctor visits in last three months<br>\n",
    "HOSPVIS =  number of hospital visits in last calendar year<br>"
   ]
  },
  {
   "cell_type": "markdown",
   "metadata": {},
   "source": [
    "### Loading the dataset with Pandas"
   ]
  },
  {
   "cell_type": "code",
   "execution_count": 33,
   "metadata": {
    "collapsed": true
   },
   "outputs": [],
   "source": [
    "import pandas as pd\n",
    "import numpy as np\n",
    "import matplotlib.pyplot as plt\n",
    "%matplotlib inline\n",
    "\n",
    "# Load the dataset in pandas making sure you set the id as the index for easy access (using index_col='id')\n",
    "private_1984 = pd.read_csv(\"healthcare_data_1984_private.csv\", index_col='id')"
   ]
  },
  {
   "cell_type": "markdown",
   "metadata": {},
   "source": [
    "Let's check that the dataset is properly loaded by printing the first few lines"
   ]
  },
  {
   "cell_type": "code",
   "execution_count": 34,
   "metadata": {
    "collapsed": true,
    "scrolled": false
   },
   "outputs": [
    {
     "data": {
      "text/html": [
       "<div>\n",
       "<style scoped>\n",
       "    .dataframe tbody tr th:only-of-type {\n",
       "        vertical-align: middle;\n",
       "    }\n",
       "\n",
       "    .dataframe tbody tr th {\n",
       "        vertical-align: top;\n",
       "    }\n",
       "\n",
       "    .dataframe thead th {\n",
       "        text-align: right;\n",
       "    }\n",
       "</style>\n",
       "<table border=\"1\" class=\"dataframe\">\n",
       "  <thead>\n",
       "    <tr style=\"text-align: right;\">\n",
       "      <th></th>\n",
       "      <th>FEMALE</th>\n",
       "      <th>YEAR</th>\n",
       "      <th>AGE</th>\n",
       "      <th>HANDDUM</th>\n",
       "      <th>WORKING</th>\n",
       "      <th>HHNINC</th>\n",
       "      <th>HHKIDS</th>\n",
       "      <th>EDUC</th>\n",
       "      <th>MARRIED</th>\n",
       "      <th>WORKING.1</th>\n",
       "      <th>BLUEC</th>\n",
       "      <th>WHITEC</th>\n",
       "      <th>SELF</th>\n",
       "      <th>DOCVIS</th>\n",
       "      <th>HOSPVIS</th>\n",
       "    </tr>\n",
       "    <tr>\n",
       "      <th>id</th>\n",
       "      <th></th>\n",
       "      <th></th>\n",
       "      <th></th>\n",
       "      <th></th>\n",
       "      <th></th>\n",
       "      <th></th>\n",
       "      <th></th>\n",
       "      <th></th>\n",
       "      <th></th>\n",
       "      <th></th>\n",
       "      <th></th>\n",
       "      <th></th>\n",
       "      <th></th>\n",
       "      <th></th>\n",
       "      <th></th>\n",
       "    </tr>\n",
       "  </thead>\n",
       "  <tbody>\n",
       "    <tr>\n",
       "      <th>98990</th>\n",
       "      <td>0</td>\n",
       "      <td>1984</td>\n",
       "      <td>54</td>\n",
       "      <td>0.000000</td>\n",
       "      <td>1</td>\n",
       "      <td>0.3050</td>\n",
       "      <td>0</td>\n",
       "      <td>15.0</td>\n",
       "      <td>1</td>\n",
       "      <td>1</td>\n",
       "      <td>0</td>\n",
       "      <td>1</td>\n",
       "      <td>0</td>\n",
       "      <td>1</td>\n",
       "      <td>0</td>\n",
       "    </tr>\n",
       "    <tr>\n",
       "      <th>32946</th>\n",
       "      <td>1</td>\n",
       "      <td>1984</td>\n",
       "      <td>44</td>\n",
       "      <td>0.000000</td>\n",
       "      <td>0</td>\n",
       "      <td>0.3050</td>\n",
       "      <td>0</td>\n",
       "      <td>9.0</td>\n",
       "      <td>1</td>\n",
       "      <td>0</td>\n",
       "      <td>0</td>\n",
       "      <td>0</td>\n",
       "      <td>0</td>\n",
       "      <td>0</td>\n",
       "      <td>0</td>\n",
       "    </tr>\n",
       "    <tr>\n",
       "      <th>47400</th>\n",
       "      <td>1</td>\n",
       "      <td>1984</td>\n",
       "      <td>58</td>\n",
       "      <td>0.168719</td>\n",
       "      <td>0</td>\n",
       "      <td>0.1434</td>\n",
       "      <td>0</td>\n",
       "      <td>11.0</td>\n",
       "      <td>0</td>\n",
       "      <td>0</td>\n",
       "      <td>0</td>\n",
       "      <td>0</td>\n",
       "      <td>0</td>\n",
       "      <td>0</td>\n",
       "      <td>0</td>\n",
       "    </tr>\n",
       "    <tr>\n",
       "      <th>50813</th>\n",
       "      <td>0</td>\n",
       "      <td>1984</td>\n",
       "      <td>64</td>\n",
       "      <td>1.000000</td>\n",
       "      <td>1</td>\n",
       "      <td>0.1500</td>\n",
       "      <td>0</td>\n",
       "      <td>10.5</td>\n",
       "      <td>0</td>\n",
       "      <td>1</td>\n",
       "      <td>1</td>\n",
       "      <td>0</td>\n",
       "      <td>0</td>\n",
       "      <td>7</td>\n",
       "      <td>2</td>\n",
       "    </tr>\n",
       "    <tr>\n",
       "      <th>43058</th>\n",
       "      <td>0</td>\n",
       "      <td>1984</td>\n",
       "      <td>30</td>\n",
       "      <td>0.000000</td>\n",
       "      <td>0</td>\n",
       "      <td>0.2400</td>\n",
       "      <td>0</td>\n",
       "      <td>13.0</td>\n",
       "      <td>0</td>\n",
       "      <td>0</td>\n",
       "      <td>0</td>\n",
       "      <td>0</td>\n",
       "      <td>0</td>\n",
       "      <td>6</td>\n",
       "      <td>0</td>\n",
       "    </tr>\n",
       "  </tbody>\n",
       "</table>\n",
       "</div>"
      ],
      "text/plain": [
       "       FEMALE  YEAR  AGE   HANDDUM  WORKING  HHNINC  HHKIDS  EDUC  MARRIED  \\\n",
       "id                                                                           \n",
       "98990       0  1984   54  0.000000        1  0.3050       0  15.0        1   \n",
       "32946       1  1984   44  0.000000        0  0.3050       0   9.0        1   \n",
       "47400       1  1984   58  0.168719        0  0.1434       0  11.0        0   \n",
       "50813       0  1984   64  1.000000        1  0.1500       0  10.5        0   \n",
       "43058       0  1984   30  0.000000        0  0.2400       0  13.0        0   \n",
       "\n",
       "       WORKING.1  BLUEC  WHITEC  SELF  DOCVIS  HOSPVIS  \n",
       "id                                                      \n",
       "98990          1      0       1     0       1        0  \n",
       "32946          0      0       0     0       0        0  \n",
       "47400          0      0       0     0       0        0  \n",
       "50813          1      1       0     0       7        2  \n",
       "43058          0      0       0     0       6        0  "
      ]
     },
     "execution_count": 34,
     "metadata": {},
     "output_type": "execute_result"
    }
   ],
   "source": [
    "private_1984.head()"
   ]
  },
  {
   "cell_type": "markdown",
   "metadata": {},
   "source": [
    "# 1. Pseudonymization: secret formulas"
   ]
  },
  {
   "cell_type": "markdown",
   "metadata": {},
   "source": [
    "In this exercise, you will be working directly with \"secret formulas\" as a pseudonymization technique."
   ]
  },
  {
   "cell_type": "markdown",
   "metadata": {},
   "source": [
    "**Action:** Before you start, we need you to pick a partner for this exercise session (e.g. the person sitting next to you), with whom you will share your _pseudonymised_ data."
   ]
  },
  {
   "cell_type": "markdown",
   "metadata": {},
   "source": [
    "### Exercise 1.A | Creating and cracking a \"secret formula\""
   ]
  },
  {
   "cell_type": "markdown",
   "metadata": {},
   "source": [
    "In this exercise, you will be guided to choose your own secret hashing function and use it to pseudonymize every record in the dataset. You will then share two small datasets with your partner. The first dataset will contain both the true IDs and the pseudonyms. This dataset represents the *background knowledge* that an attacker (your partner) might have obtained in various ways. The second dataset will contain only the pseudonymized IDs. Your partner will try to use the backgound knowledge to re-identify all the records in this second dataset.\n",
    "\n",
    "Most of the steps are already solved. You are required to write something if and only if you see *\"action required\"* next to the step number, e.g. **Step 2 *(action required)*.** But don't forget to execute *every* code cell (with `Ctrl-Enter`)!"
   ]
  },
  {
   "cell_type": "markdown",
   "metadata": {},
   "source": [
    "### Pseudonymizing the dataset\n",
    "\n",
    "**Step 1.** Choose a *polynomial* hash function of degree 2, i.e. a function of the form $a_0 x^2 + a_{1} x + a_2$. For simplicity (as discussed during the lecture), your coefficients $a_i$ must be *integers* between 0 and 500. Don't reveal your function!\n",
    "\n",
    "**Step 2 *(action required)*.** Define your function and call it `generate_pseudo_id`. Make sure to change the values of `a[0],a[1],a[2]` to the values of your polynomial."
   ]
  },
  {
   "cell_type": "code",
   "execution_count": 35,
   "metadata": {
    "collapsed": true
   },
   "outputs": [],
   "source": [
    "def generate_pseudo_id(phone_number):\n",
    "    'Takes a phone number (int) x, and returns a0 * x^2 + a1 * x + a2'\n",
    "    a = np.array([0,0,0]) # initiate array of coefficients\n",
    "    a[0] =  8 ### YOU CHOOSE THIS!\n",
    "    a[1] =  6 ### YOU CHOOSE THIS!\n",
    "    a[2] =  9 ### YOU CHOOSE THIS!\n",
    "    x = phone_number\n",
    "    return a[0] * x**2 + a[1] * x + a[2]"
   ]
  },
  {
   "cell_type": "markdown",
   "metadata": {},
   "source": [
    "**Step 3.** Create a copy of `private_1984` called `private_1984_double`."
   ]
  },
  {
   "cell_type": "code",
   "execution_count": 46,
   "metadata": {
    "collapsed": true
   },
   "outputs": [],
   "source": [
    "private_1984_double = private_1984.copy()"
   ]
  },
  {
   "cell_type": "markdown",
   "metadata": {},
   "source": [
    "**Step 4.** Pseudonymize every ID in `private_1984_double` using your function. Keep the `id` column as the first column in the dataset and add the column of pseudonymized IDs as the second one. Call it `pseudo_id`."
   ]
  },
  {
   "cell_type": "code",
   "execution_count": 47,
   "metadata": {
    "collapsed": true
   },
   "outputs": [
    {
     "data": {
      "text/html": [
       "<div>\n",
       "<style scoped>\n",
       "    .dataframe tbody tr th:only-of-type {\n",
       "        vertical-align: middle;\n",
       "    }\n",
       "\n",
       "    .dataframe tbody tr th {\n",
       "        vertical-align: top;\n",
       "    }\n",
       "\n",
       "    .dataframe thead th {\n",
       "        text-align: right;\n",
       "    }\n",
       "</style>\n",
       "<table border=\"1\" class=\"dataframe\">\n",
       "  <thead>\n",
       "    <tr style=\"text-align: right;\">\n",
       "      <th></th>\n",
       "      <th>pseudo_id</th>\n",
       "      <th>FEMALE</th>\n",
       "      <th>YEAR</th>\n",
       "      <th>AGE</th>\n",
       "      <th>HANDDUM</th>\n",
       "      <th>WORKING</th>\n",
       "      <th>HHNINC</th>\n",
       "      <th>HHKIDS</th>\n",
       "      <th>EDUC</th>\n",
       "      <th>MARRIED</th>\n",
       "      <th>WORKING.1</th>\n",
       "      <th>BLUEC</th>\n",
       "      <th>WHITEC</th>\n",
       "      <th>SELF</th>\n",
       "      <th>DOCVIS</th>\n",
       "      <th>HOSPVIS</th>\n",
       "    </tr>\n",
       "    <tr>\n",
       "      <th>id</th>\n",
       "      <th></th>\n",
       "      <th></th>\n",
       "      <th></th>\n",
       "      <th></th>\n",
       "      <th></th>\n",
       "      <th></th>\n",
       "      <th></th>\n",
       "      <th></th>\n",
       "      <th></th>\n",
       "      <th></th>\n",
       "      <th></th>\n",
       "      <th></th>\n",
       "      <th></th>\n",
       "      <th></th>\n",
       "      <th></th>\n",
       "      <th></th>\n",
       "    </tr>\n",
       "  </thead>\n",
       "  <tbody>\n",
       "    <tr>\n",
       "      <th>98990</th>\n",
       "      <td>78392754749</td>\n",
       "      <td>0</td>\n",
       "      <td>1984</td>\n",
       "      <td>54</td>\n",
       "      <td>0.000000</td>\n",
       "      <td>1</td>\n",
       "      <td>0.3050</td>\n",
       "      <td>0</td>\n",
       "      <td>15.0</td>\n",
       "      <td>1</td>\n",
       "      <td>1</td>\n",
       "      <td>0</td>\n",
       "      <td>1</td>\n",
       "      <td>0</td>\n",
       "      <td>1</td>\n",
       "      <td>0</td>\n",
       "    </tr>\n",
       "    <tr>\n",
       "      <th>32946</th>\n",
       "      <td>8683709013</td>\n",
       "      <td>1</td>\n",
       "      <td>1984</td>\n",
       "      <td>44</td>\n",
       "      <td>0.000000</td>\n",
       "      <td>0</td>\n",
       "      <td>0.3050</td>\n",
       "      <td>0</td>\n",
       "      <td>9.0</td>\n",
       "      <td>1</td>\n",
       "      <td>0</td>\n",
       "      <td>0</td>\n",
       "      <td>0</td>\n",
       "      <td>0</td>\n",
       "      <td>0</td>\n",
       "      <td>0</td>\n",
       "    </tr>\n",
       "    <tr>\n",
       "      <th>47400</th>\n",
       "      <td>17974364409</td>\n",
       "      <td>1</td>\n",
       "      <td>1984</td>\n",
       "      <td>58</td>\n",
       "      <td>0.168719</td>\n",
       "      <td>0</td>\n",
       "      <td>0.1434</td>\n",
       "      <td>0</td>\n",
       "      <td>11.0</td>\n",
       "      <td>0</td>\n",
       "      <td>0</td>\n",
       "      <td>0</td>\n",
       "      <td>0</td>\n",
       "      <td>0</td>\n",
       "      <td>0</td>\n",
       "      <td>0</td>\n",
       "    </tr>\n",
       "    <tr>\n",
       "      <th>50813</th>\n",
       "      <td>20655992639</td>\n",
       "      <td>0</td>\n",
       "      <td>1984</td>\n",
       "      <td>64</td>\n",
       "      <td>1.000000</td>\n",
       "      <td>1</td>\n",
       "      <td>0.1500</td>\n",
       "      <td>0</td>\n",
       "      <td>10.5</td>\n",
       "      <td>0</td>\n",
       "      <td>1</td>\n",
       "      <td>1</td>\n",
       "      <td>0</td>\n",
       "      <td>0</td>\n",
       "      <td>7</td>\n",
       "      <td>2</td>\n",
       "    </tr>\n",
       "    <tr>\n",
       "      <th>43058</th>\n",
       "      <td>14832189269</td>\n",
       "      <td>0</td>\n",
       "      <td>1984</td>\n",
       "      <td>30</td>\n",
       "      <td>0.000000</td>\n",
       "      <td>0</td>\n",
       "      <td>0.2400</td>\n",
       "      <td>0</td>\n",
       "      <td>13.0</td>\n",
       "      <td>0</td>\n",
       "      <td>0</td>\n",
       "      <td>0</td>\n",
       "      <td>0</td>\n",
       "      <td>0</td>\n",
       "      <td>6</td>\n",
       "      <td>0</td>\n",
       "    </tr>\n",
       "  </tbody>\n",
       "</table>\n",
       "</div>"
      ],
      "text/plain": [
       "         pseudo_id  FEMALE  YEAR  AGE   HANDDUM  WORKING  HHNINC  HHKIDS  \\\n",
       "id                                                                         \n",
       "98990  78392754749       0  1984   54  0.000000        1  0.3050       0   \n",
       "32946   8683709013       1  1984   44  0.000000        0  0.3050       0   \n",
       "47400  17974364409       1  1984   58  0.168719        0  0.1434       0   \n",
       "50813  20655992639       0  1984   64  1.000000        1  0.1500       0   \n",
       "43058  14832189269       0  1984   30  0.000000        0  0.2400       0   \n",
       "\n",
       "       EDUC  MARRIED  WORKING.1  BLUEC  WHITEC  SELF  DOCVIS  HOSPVIS  \n",
       "id                                                                     \n",
       "98990  15.0        1          1      0       1     0       1        0  \n",
       "32946   9.0        1          0      0       0     0       0        0  \n",
       "47400  11.0        0          0      0       0     0       0        0  \n",
       "50813  10.5        0          1      1       0     0       7        2  \n",
       "43058  13.0        0          0      0       0     0       6        0  "
      ]
     },
     "execution_count": 47,
     "metadata": {},
     "output_type": "execute_result"
    }
   ],
   "source": [
    "# pseudonymise every index of each record\n",
    "pseudonymized_numbers = [generate_pseudo_id(x) for x in private_1984.index]\n",
    "private_1984_double.insert(0, 'pseudo_id', pseudonymized_numbers)\n",
    "private_1984_double.head()"
   ]
  },
  {
   "cell_type": "markdown",
   "metadata": {},
   "source": [
    "### Producing and sharing the background knowledge\n",
    "\n",
    "**Step 5.** Export 20 random records from your pseudonymized dataset to a csv file (`known_records.csv`) and email it to your partner. This will be the set of records for which your partner knows both ID and pseudonymised ID."
   ]
  },
  {
   "cell_type": "code",
   "execution_count": 48,
   "metadata": {
    "collapsed": true
   },
   "outputs": [],
   "source": [
    "private_1984_double.sample(20).to_csv(\"known_records.csv\")"
   ]
  },
  {
   "cell_type": "markdown",
   "metadata": {},
   "source": [
    "**Step 6.** Export 20 random records from your pseudonymized dataset to a new dataset `sample_records_double`. Create a copy of `sample_records_double` and call it `sample_records_anon`. Remove the `id` column from it. Then save it to a csv file `sample_records_anon.csv` and email it to your partner. Your partner will have to reidentify these records."
   ]
  },
  {
   "cell_type": "code",
   "execution_count": 53,
   "metadata": {
    "collapsed": true,
    "scrolled": false
   },
   "outputs": [
    {
     "data": {
      "text/html": [
       "<div>\n",
       "<style scoped>\n",
       "    .dataframe tbody tr th:only-of-type {\n",
       "        vertical-align: middle;\n",
       "    }\n",
       "\n",
       "    .dataframe tbody tr th {\n",
       "        vertical-align: top;\n",
       "    }\n",
       "\n",
       "    .dataframe thead th {\n",
       "        text-align: right;\n",
       "    }\n",
       "</style>\n",
       "<table border=\"1\" class=\"dataframe\">\n",
       "  <thead>\n",
       "    <tr style=\"text-align: right;\">\n",
       "      <th></th>\n",
       "      <th>pseudo_id</th>\n",
       "      <th>FEMALE</th>\n",
       "      <th>YEAR</th>\n",
       "      <th>AGE</th>\n",
       "      <th>HANDDUM</th>\n",
       "      <th>WORKING</th>\n",
       "      <th>HHNINC</th>\n",
       "      <th>HHKIDS</th>\n",
       "      <th>EDUC</th>\n",
       "      <th>MARRIED</th>\n",
       "      <th>WORKING.1</th>\n",
       "      <th>BLUEC</th>\n",
       "      <th>WHITEC</th>\n",
       "      <th>SELF</th>\n",
       "      <th>DOCVIS</th>\n",
       "      <th>HOSPVIS</th>\n",
       "    </tr>\n",
       "    <tr>\n",
       "      <th>id</th>\n",
       "      <th></th>\n",
       "      <th></th>\n",
       "      <th></th>\n",
       "      <th></th>\n",
       "      <th></th>\n",
       "      <th></th>\n",
       "      <th></th>\n",
       "      <th></th>\n",
       "      <th></th>\n",
       "      <th></th>\n",
       "      <th></th>\n",
       "      <th></th>\n",
       "      <th></th>\n",
       "      <th></th>\n",
       "      <th></th>\n",
       "      <th></th>\n",
       "    </tr>\n",
       "  </thead>\n",
       "  <tbody>\n",
       "    <tr>\n",
       "      <th>93006</th>\n",
       "      <td>69201486333</td>\n",
       "      <td>0</td>\n",
       "      <td>1984</td>\n",
       "      <td>37</td>\n",
       "      <td>0.0</td>\n",
       "      <td>1</td>\n",
       "      <td>0.2700</td>\n",
       "      <td>1</td>\n",
       "      <td>10.5</td>\n",
       "      <td>0</td>\n",
       "      <td>1</td>\n",
       "      <td>1</td>\n",
       "      <td>0</td>\n",
       "      <td>0</td>\n",
       "      <td>0</td>\n",
       "      <td>0</td>\n",
       "    </tr>\n",
       "    <tr>\n",
       "      <th>73291</th>\n",
       "      <td>42973005203</td>\n",
       "      <td>0</td>\n",
       "      <td>1984</td>\n",
       "      <td>44</td>\n",
       "      <td>0.0</td>\n",
       "      <td>1</td>\n",
       "      <td>0.4400</td>\n",
       "      <td>1</td>\n",
       "      <td>10.5</td>\n",
       "      <td>1</td>\n",
       "      <td>1</td>\n",
       "      <td>0</td>\n",
       "      <td>1</td>\n",
       "      <td>0</td>\n",
       "      <td>4</td>\n",
       "      <td>0</td>\n",
       "    </tr>\n",
       "    <tr>\n",
       "      <th>17156</th>\n",
       "      <td>2354729633</td>\n",
       "      <td>1</td>\n",
       "      <td>1984</td>\n",
       "      <td>49</td>\n",
       "      <td>0.0</td>\n",
       "      <td>0</td>\n",
       "      <td>0.5200</td>\n",
       "      <td>1</td>\n",
       "      <td>14.5</td>\n",
       "      <td>1</td>\n",
       "      <td>0</td>\n",
       "      <td>0</td>\n",
       "      <td>0</td>\n",
       "      <td>0</td>\n",
       "      <td>1</td>\n",
       "      <td>0</td>\n",
       "    </tr>\n",
       "    <tr>\n",
       "      <th>15337</th>\n",
       "      <td>1881880583</td>\n",
       "      <td>1</td>\n",
       "      <td>1984</td>\n",
       "      <td>47</td>\n",
       "      <td>0.0</td>\n",
       "      <td>0</td>\n",
       "      <td>0.1900</td>\n",
       "      <td>1</td>\n",
       "      <td>9.0</td>\n",
       "      <td>1</td>\n",
       "      <td>0</td>\n",
       "      <td>0</td>\n",
       "      <td>0</td>\n",
       "      <td>0</td>\n",
       "      <td>0</td>\n",
       "      <td>0</td>\n",
       "    </tr>\n",
       "    <tr>\n",
       "      <th>16763</th>\n",
       "      <td>2248085939</td>\n",
       "      <td>0</td>\n",
       "      <td>1984</td>\n",
       "      <td>48</td>\n",
       "      <td>1.0</td>\n",
       "      <td>1</td>\n",
       "      <td>0.2000</td>\n",
       "      <td>1</td>\n",
       "      <td>10.5</td>\n",
       "      <td>1</td>\n",
       "      <td>1</td>\n",
       "      <td>0</td>\n",
       "      <td>0</td>\n",
       "      <td>1</td>\n",
       "      <td>3</td>\n",
       "      <td>0</td>\n",
       "    </tr>\n",
       "    <tr>\n",
       "      <th>47972</th>\n",
       "      <td>18410790113</td>\n",
       "      <td>0</td>\n",
       "      <td>1984</td>\n",
       "      <td>34</td>\n",
       "      <td>0.0</td>\n",
       "      <td>1</td>\n",
       "      <td>0.3000</td>\n",
       "      <td>0</td>\n",
       "      <td>10.5</td>\n",
       "      <td>0</td>\n",
       "      <td>1</td>\n",
       "      <td>0</td>\n",
       "      <td>0</td>\n",
       "      <td>0</td>\n",
       "      <td>1</td>\n",
       "      <td>0</td>\n",
       "    </tr>\n",
       "    <tr>\n",
       "      <th>60888</th>\n",
       "      <td>29659153689</td>\n",
       "      <td>1</td>\n",
       "      <td>1984</td>\n",
       "      <td>42</td>\n",
       "      <td>0.0</td>\n",
       "      <td>0</td>\n",
       "      <td>0.3800</td>\n",
       "      <td>1</td>\n",
       "      <td>18.0</td>\n",
       "      <td>1</td>\n",
       "      <td>0</td>\n",
       "      <td>0</td>\n",
       "      <td>1</td>\n",
       "      <td>0</td>\n",
       "      <td>18</td>\n",
       "      <td>1</td>\n",
       "    </tr>\n",
       "    <tr>\n",
       "      <th>96764</th>\n",
       "      <td>74906754161</td>\n",
       "      <td>1</td>\n",
       "      <td>1984</td>\n",
       "      <td>41</td>\n",
       "      <td>0.0</td>\n",
       "      <td>0</td>\n",
       "      <td>0.2900</td>\n",
       "      <td>1</td>\n",
       "      <td>10.5</td>\n",
       "      <td>1</td>\n",
       "      <td>0</td>\n",
       "      <td>0</td>\n",
       "      <td>0</td>\n",
       "      <td>0</td>\n",
       "      <td>0</td>\n",
       "      <td>0</td>\n",
       "    </tr>\n",
       "    <tr>\n",
       "      <th>14167</th>\n",
       "      <td>1605716123</td>\n",
       "      <td>1</td>\n",
       "      <td>1984</td>\n",
       "      <td>62</td>\n",
       "      <td>0.0</td>\n",
       "      <td>0</td>\n",
       "      <td>0.2000</td>\n",
       "      <td>0</td>\n",
       "      <td>9.0</td>\n",
       "      <td>1</td>\n",
       "      <td>0</td>\n",
       "      <td>0</td>\n",
       "      <td>0</td>\n",
       "      <td>0</td>\n",
       "      <td>4</td>\n",
       "      <td>0</td>\n",
       "    </tr>\n",
       "    <tr>\n",
       "      <th>70010</th>\n",
       "      <td>39211620869</td>\n",
       "      <td>0</td>\n",
       "      <td>1984</td>\n",
       "      <td>60</td>\n",
       "      <td>0.0</td>\n",
       "      <td>1</td>\n",
       "      <td>0.4000</td>\n",
       "      <td>0</td>\n",
       "      <td>18.0</td>\n",
       "      <td>1</td>\n",
       "      <td>1</td>\n",
       "      <td>0</td>\n",
       "      <td>0</td>\n",
       "      <td>1</td>\n",
       "      <td>3</td>\n",
       "      <td>0</td>\n",
       "    </tr>\n",
       "    <tr>\n",
       "      <th>42602</th>\n",
       "      <td>14519698853</td>\n",
       "      <td>0</td>\n",
       "      <td>1984</td>\n",
       "      <td>44</td>\n",
       "      <td>0.0</td>\n",
       "      <td>1</td>\n",
       "      <td>0.1900</td>\n",
       "      <td>0</td>\n",
       "      <td>10.5</td>\n",
       "      <td>0</td>\n",
       "      <td>1</td>\n",
       "      <td>1</td>\n",
       "      <td>0</td>\n",
       "      <td>0</td>\n",
       "      <td>3</td>\n",
       "      <td>0</td>\n",
       "    </tr>\n",
       "    <tr>\n",
       "      <th>48612</th>\n",
       "      <td>18905304033</td>\n",
       "      <td>1</td>\n",
       "      <td>1984</td>\n",
       "      <td>56</td>\n",
       "      <td>0.0</td>\n",
       "      <td>1</td>\n",
       "      <td>0.4000</td>\n",
       "      <td>0</td>\n",
       "      <td>9.0</td>\n",
       "      <td>1</td>\n",
       "      <td>1</td>\n",
       "      <td>1</td>\n",
       "      <td>0</td>\n",
       "      <td>0</td>\n",
       "      <td>4</td>\n",
       "      <td>0</td>\n",
       "    </tr>\n",
       "    <tr>\n",
       "      <th>31126</th>\n",
       "      <td>7750809773</td>\n",
       "      <td>0</td>\n",
       "      <td>1984</td>\n",
       "      <td>30</td>\n",
       "      <td>0.0</td>\n",
       "      <td>1</td>\n",
       "      <td>0.3000</td>\n",
       "      <td>1</td>\n",
       "      <td>10.5</td>\n",
       "      <td>1</td>\n",
       "      <td>1</td>\n",
       "      <td>1</td>\n",
       "      <td>0</td>\n",
       "      <td>0</td>\n",
       "      <td>0</td>\n",
       "      <td>0</td>\n",
       "    </tr>\n",
       "    <tr>\n",
       "      <th>65748</th>\n",
       "      <td>34582790529</td>\n",
       "      <td>0</td>\n",
       "      <td>1984</td>\n",
       "      <td>29</td>\n",
       "      <td>0.0</td>\n",
       "      <td>1</td>\n",
       "      <td>0.6000</td>\n",
       "      <td>1</td>\n",
       "      <td>10.5</td>\n",
       "      <td>1</td>\n",
       "      <td>1</td>\n",
       "      <td>1</td>\n",
       "      <td>0</td>\n",
       "      <td>0</td>\n",
       "      <td>0</td>\n",
       "      <td>0</td>\n",
       "    </tr>\n",
       "    <tr>\n",
       "      <th>61000</th>\n",
       "      <td>29768366009</td>\n",
       "      <td>1</td>\n",
       "      <td>1984</td>\n",
       "      <td>49</td>\n",
       "      <td>0.0</td>\n",
       "      <td>1</td>\n",
       "      <td>0.3500</td>\n",
       "      <td>0</td>\n",
       "      <td>11.5</td>\n",
       "      <td>1</td>\n",
       "      <td>1</td>\n",
       "      <td>0</td>\n",
       "      <td>1</td>\n",
       "      <td>0</td>\n",
       "      <td>1</td>\n",
       "      <td>0</td>\n",
       "    </tr>\n",
       "    <tr>\n",
       "      <th>78129</th>\n",
       "      <td>48833593911</td>\n",
       "      <td>1</td>\n",
       "      <td>1984</td>\n",
       "      <td>55</td>\n",
       "      <td>0.0</td>\n",
       "      <td>0</td>\n",
       "      <td>0.3425</td>\n",
       "      <td>0</td>\n",
       "      <td>9.0</td>\n",
       "      <td>1</td>\n",
       "      <td>0</td>\n",
       "      <td>1</td>\n",
       "      <td>0</td>\n",
       "      <td>0</td>\n",
       "      <td>8</td>\n",
       "      <td>0</td>\n",
       "    </tr>\n",
       "    <tr>\n",
       "      <th>22647</th>\n",
       "      <td>4103228763</td>\n",
       "      <td>0</td>\n",
       "      <td>1984</td>\n",
       "      <td>49</td>\n",
       "      <td>0.0</td>\n",
       "      <td>1</td>\n",
       "      <td>0.3300</td>\n",
       "      <td>1</td>\n",
       "      <td>10.5</td>\n",
       "      <td>1</td>\n",
       "      <td>1</td>\n",
       "      <td>1</td>\n",
       "      <td>0</td>\n",
       "      <td>0</td>\n",
       "      <td>0</td>\n",
       "      <td>0</td>\n",
       "    </tr>\n",
       "    <tr>\n",
       "      <th>79807</th>\n",
       "      <td>50953736843</td>\n",
       "      <td>0</td>\n",
       "      <td>1984</td>\n",
       "      <td>34</td>\n",
       "      <td>0.0</td>\n",
       "      <td>1</td>\n",
       "      <td>0.1800</td>\n",
       "      <td>0</td>\n",
       "      <td>10.5</td>\n",
       "      <td>0</td>\n",
       "      <td>1</td>\n",
       "      <td>1</td>\n",
       "      <td>0</td>\n",
       "      <td>0</td>\n",
       "      <td>0</td>\n",
       "      <td>0</td>\n",
       "    </tr>\n",
       "    <tr>\n",
       "      <th>99714</th>\n",
       "      <td>79543652661</td>\n",
       "      <td>1</td>\n",
       "      <td>1984</td>\n",
       "      <td>44</td>\n",
       "      <td>0.0</td>\n",
       "      <td>0</td>\n",
       "      <td>0.3000</td>\n",
       "      <td>1</td>\n",
       "      <td>9.0</td>\n",
       "      <td>1</td>\n",
       "      <td>0</td>\n",
       "      <td>1</td>\n",
       "      <td>0</td>\n",
       "      <td>0</td>\n",
       "      <td>0</td>\n",
       "      <td>0</td>\n",
       "    </tr>\n",
       "    <tr>\n",
       "      <th>69521</th>\n",
       "      <td>38665772663</td>\n",
       "      <td>0</td>\n",
       "      <td>1984</td>\n",
       "      <td>31</td>\n",
       "      <td>0.0</td>\n",
       "      <td>1</td>\n",
       "      <td>0.3500</td>\n",
       "      <td>1</td>\n",
       "      <td>12.0</td>\n",
       "      <td>1</td>\n",
       "      <td>1</td>\n",
       "      <td>0</td>\n",
       "      <td>0</td>\n",
       "      <td>1</td>\n",
       "      <td>0</td>\n",
       "      <td>0</td>\n",
       "    </tr>\n",
       "  </tbody>\n",
       "</table>\n",
       "</div>"
      ],
      "text/plain": [
       "         pseudo_id  FEMALE  YEAR  AGE  HANDDUM  WORKING  HHNINC  HHKIDS  EDUC  \\\n",
       "id                                                                              \n",
       "93006  69201486333       0  1984   37      0.0        1  0.2700       1  10.5   \n",
       "73291  42973005203       0  1984   44      0.0        1  0.4400       1  10.5   \n",
       "17156   2354729633       1  1984   49      0.0        0  0.5200       1  14.5   \n",
       "15337   1881880583       1  1984   47      0.0        0  0.1900       1   9.0   \n",
       "16763   2248085939       0  1984   48      1.0        1  0.2000       1  10.5   \n",
       "47972  18410790113       0  1984   34      0.0        1  0.3000       0  10.5   \n",
       "60888  29659153689       1  1984   42      0.0        0  0.3800       1  18.0   \n",
       "96764  74906754161       1  1984   41      0.0        0  0.2900       1  10.5   \n",
       "14167   1605716123       1  1984   62      0.0        0  0.2000       0   9.0   \n",
       "70010  39211620869       0  1984   60      0.0        1  0.4000       0  18.0   \n",
       "42602  14519698853       0  1984   44      0.0        1  0.1900       0  10.5   \n",
       "48612  18905304033       1  1984   56      0.0        1  0.4000       0   9.0   \n",
       "31126   7750809773       0  1984   30      0.0        1  0.3000       1  10.5   \n",
       "65748  34582790529       0  1984   29      0.0        1  0.6000       1  10.5   \n",
       "61000  29768366009       1  1984   49      0.0        1  0.3500       0  11.5   \n",
       "78129  48833593911       1  1984   55      0.0        0  0.3425       0   9.0   \n",
       "22647   4103228763       0  1984   49      0.0        1  0.3300       1  10.5   \n",
       "79807  50953736843       0  1984   34      0.0        1  0.1800       0  10.5   \n",
       "99714  79543652661       1  1984   44      0.0        0  0.3000       1   9.0   \n",
       "69521  38665772663       0  1984   31      0.0        1  0.3500       1  12.0   \n",
       "\n",
       "       MARRIED  WORKING.1  BLUEC  WHITEC  SELF  DOCVIS  HOSPVIS  \n",
       "id                                                               \n",
       "93006        0          1      1       0     0       0        0  \n",
       "73291        1          1      0       1     0       4        0  \n",
       "17156        1          0      0       0     0       1        0  \n",
       "15337        1          0      0       0     0       0        0  \n",
       "16763        1          1      0       0     1       3        0  \n",
       "47972        0          1      0       0     0       1        0  \n",
       "60888        1          0      0       1     0      18        1  \n",
       "96764        1          0      0       0     0       0        0  \n",
       "14167        1          0      0       0     0       4        0  \n",
       "70010        1          1      0       0     1       3        0  \n",
       "42602        0          1      1       0     0       3        0  \n",
       "48612        1          1      1       0     0       4        0  \n",
       "31126        1          1      1       0     0       0        0  \n",
       "65748        1          1      1       0     0       0        0  \n",
       "61000        1          1      0       1     0       1        0  \n",
       "78129        1          0      1       0     0       8        0  \n",
       "22647        1          1      1       0     0       0        0  \n",
       "79807        0          1      1       0     0       0        0  \n",
       "99714        1          0      1       0     0       0        0  \n",
       "69521        1          1      0       0     1       0        0  "
      ]
     },
     "execution_count": 53,
     "metadata": {},
     "output_type": "execute_result"
    }
   ],
   "source": [
    "# extract 20 random samples\n",
    "#Export 20 random records from your pseudonymized dataset to a new dataset sample_records_double. \n",
    "#Create a copy of sample_records_double and call it sample_records_anon\n",
    "\n",
    "#private_1984\n",
    "#private_1984_double (copy and pseudonymized)\n",
    "\n",
    "sample_records_double = private_1984_double.sample(20)\n",
    "sample_records_anon = sample_records_double.copy()\n",
    "\n",
    "# remove the ID column, and make the `pseudo_id` the index\n",
    "sample_records_anon.set_index('pseudo_id', inplace=True)\n",
    "sample_records_anon.to_csv(\"sample_records_anon.csv\")\n",
    "\n",
    "sample_records_double.head(20) # don't show the output to your partner!"
   ]
  },
  {
   "cell_type": "markdown",
   "metadata": {},
   "source": [
    "And this is what the output looks like:"
   ]
  },
  {
   "cell_type": "code",
   "execution_count": 54,
   "metadata": {
    "collapsed": true,
    "scrolled": false
   },
   "outputs": [
    {
     "data": {
      "text/html": [
       "<div>\n",
       "<style scoped>\n",
       "    .dataframe tbody tr th:only-of-type {\n",
       "        vertical-align: middle;\n",
       "    }\n",
       "\n",
       "    .dataframe tbody tr th {\n",
       "        vertical-align: top;\n",
       "    }\n",
       "\n",
       "    .dataframe thead th {\n",
       "        text-align: right;\n",
       "    }\n",
       "</style>\n",
       "<table border=\"1\" class=\"dataframe\">\n",
       "  <thead>\n",
       "    <tr style=\"text-align: right;\">\n",
       "      <th></th>\n",
       "      <th>FEMALE</th>\n",
       "      <th>YEAR</th>\n",
       "      <th>AGE</th>\n",
       "      <th>HANDDUM</th>\n",
       "      <th>WORKING</th>\n",
       "      <th>HHNINC</th>\n",
       "      <th>HHKIDS</th>\n",
       "      <th>EDUC</th>\n",
       "      <th>MARRIED</th>\n",
       "      <th>WORKING.1</th>\n",
       "      <th>BLUEC</th>\n",
       "      <th>WHITEC</th>\n",
       "      <th>SELF</th>\n",
       "      <th>DOCVIS</th>\n",
       "      <th>HOSPVIS</th>\n",
       "    </tr>\n",
       "    <tr>\n",
       "      <th>pseudo_id</th>\n",
       "      <th></th>\n",
       "      <th></th>\n",
       "      <th></th>\n",
       "      <th></th>\n",
       "      <th></th>\n",
       "      <th></th>\n",
       "      <th></th>\n",
       "      <th></th>\n",
       "      <th></th>\n",
       "      <th></th>\n",
       "      <th></th>\n",
       "      <th></th>\n",
       "      <th></th>\n",
       "      <th></th>\n",
       "      <th></th>\n",
       "    </tr>\n",
       "  </thead>\n",
       "  <tbody>\n",
       "    <tr>\n",
       "      <th>69201486333</th>\n",
       "      <td>0</td>\n",
       "      <td>1984</td>\n",
       "      <td>37</td>\n",
       "      <td>0.0</td>\n",
       "      <td>1</td>\n",
       "      <td>0.2700</td>\n",
       "      <td>1</td>\n",
       "      <td>10.5</td>\n",
       "      <td>0</td>\n",
       "      <td>1</td>\n",
       "      <td>1</td>\n",
       "      <td>0</td>\n",
       "      <td>0</td>\n",
       "      <td>0</td>\n",
       "      <td>0</td>\n",
       "    </tr>\n",
       "    <tr>\n",
       "      <th>42973005203</th>\n",
       "      <td>0</td>\n",
       "      <td>1984</td>\n",
       "      <td>44</td>\n",
       "      <td>0.0</td>\n",
       "      <td>1</td>\n",
       "      <td>0.4400</td>\n",
       "      <td>1</td>\n",
       "      <td>10.5</td>\n",
       "      <td>1</td>\n",
       "      <td>1</td>\n",
       "      <td>0</td>\n",
       "      <td>1</td>\n",
       "      <td>0</td>\n",
       "      <td>4</td>\n",
       "      <td>0</td>\n",
       "    </tr>\n",
       "    <tr>\n",
       "      <th>2354729633</th>\n",
       "      <td>1</td>\n",
       "      <td>1984</td>\n",
       "      <td>49</td>\n",
       "      <td>0.0</td>\n",
       "      <td>0</td>\n",
       "      <td>0.5200</td>\n",
       "      <td>1</td>\n",
       "      <td>14.5</td>\n",
       "      <td>1</td>\n",
       "      <td>0</td>\n",
       "      <td>0</td>\n",
       "      <td>0</td>\n",
       "      <td>0</td>\n",
       "      <td>1</td>\n",
       "      <td>0</td>\n",
       "    </tr>\n",
       "    <tr>\n",
       "      <th>1881880583</th>\n",
       "      <td>1</td>\n",
       "      <td>1984</td>\n",
       "      <td>47</td>\n",
       "      <td>0.0</td>\n",
       "      <td>0</td>\n",
       "      <td>0.1900</td>\n",
       "      <td>1</td>\n",
       "      <td>9.0</td>\n",
       "      <td>1</td>\n",
       "      <td>0</td>\n",
       "      <td>0</td>\n",
       "      <td>0</td>\n",
       "      <td>0</td>\n",
       "      <td>0</td>\n",
       "      <td>0</td>\n",
       "    </tr>\n",
       "    <tr>\n",
       "      <th>2248085939</th>\n",
       "      <td>0</td>\n",
       "      <td>1984</td>\n",
       "      <td>48</td>\n",
       "      <td>1.0</td>\n",
       "      <td>1</td>\n",
       "      <td>0.2000</td>\n",
       "      <td>1</td>\n",
       "      <td>10.5</td>\n",
       "      <td>1</td>\n",
       "      <td>1</td>\n",
       "      <td>0</td>\n",
       "      <td>0</td>\n",
       "      <td>1</td>\n",
       "      <td>3</td>\n",
       "      <td>0</td>\n",
       "    </tr>\n",
       "    <tr>\n",
       "      <th>18410790113</th>\n",
       "      <td>0</td>\n",
       "      <td>1984</td>\n",
       "      <td>34</td>\n",
       "      <td>0.0</td>\n",
       "      <td>1</td>\n",
       "      <td>0.3000</td>\n",
       "      <td>0</td>\n",
       "      <td>10.5</td>\n",
       "      <td>0</td>\n",
       "      <td>1</td>\n",
       "      <td>0</td>\n",
       "      <td>0</td>\n",
       "      <td>0</td>\n",
       "      <td>1</td>\n",
       "      <td>0</td>\n",
       "    </tr>\n",
       "    <tr>\n",
       "      <th>29659153689</th>\n",
       "      <td>1</td>\n",
       "      <td>1984</td>\n",
       "      <td>42</td>\n",
       "      <td>0.0</td>\n",
       "      <td>0</td>\n",
       "      <td>0.3800</td>\n",
       "      <td>1</td>\n",
       "      <td>18.0</td>\n",
       "      <td>1</td>\n",
       "      <td>0</td>\n",
       "      <td>0</td>\n",
       "      <td>1</td>\n",
       "      <td>0</td>\n",
       "      <td>18</td>\n",
       "      <td>1</td>\n",
       "    </tr>\n",
       "    <tr>\n",
       "      <th>74906754161</th>\n",
       "      <td>1</td>\n",
       "      <td>1984</td>\n",
       "      <td>41</td>\n",
       "      <td>0.0</td>\n",
       "      <td>0</td>\n",
       "      <td>0.2900</td>\n",
       "      <td>1</td>\n",
       "      <td>10.5</td>\n",
       "      <td>1</td>\n",
       "      <td>0</td>\n",
       "      <td>0</td>\n",
       "      <td>0</td>\n",
       "      <td>0</td>\n",
       "      <td>0</td>\n",
       "      <td>0</td>\n",
       "    </tr>\n",
       "    <tr>\n",
       "      <th>1605716123</th>\n",
       "      <td>1</td>\n",
       "      <td>1984</td>\n",
       "      <td>62</td>\n",
       "      <td>0.0</td>\n",
       "      <td>0</td>\n",
       "      <td>0.2000</td>\n",
       "      <td>0</td>\n",
       "      <td>9.0</td>\n",
       "      <td>1</td>\n",
       "      <td>0</td>\n",
       "      <td>0</td>\n",
       "      <td>0</td>\n",
       "      <td>0</td>\n",
       "      <td>4</td>\n",
       "      <td>0</td>\n",
       "    </tr>\n",
       "    <tr>\n",
       "      <th>39211620869</th>\n",
       "      <td>0</td>\n",
       "      <td>1984</td>\n",
       "      <td>60</td>\n",
       "      <td>0.0</td>\n",
       "      <td>1</td>\n",
       "      <td>0.4000</td>\n",
       "      <td>0</td>\n",
       "      <td>18.0</td>\n",
       "      <td>1</td>\n",
       "      <td>1</td>\n",
       "      <td>0</td>\n",
       "      <td>0</td>\n",
       "      <td>1</td>\n",
       "      <td>3</td>\n",
       "      <td>0</td>\n",
       "    </tr>\n",
       "    <tr>\n",
       "      <th>14519698853</th>\n",
       "      <td>0</td>\n",
       "      <td>1984</td>\n",
       "      <td>44</td>\n",
       "      <td>0.0</td>\n",
       "      <td>1</td>\n",
       "      <td>0.1900</td>\n",
       "      <td>0</td>\n",
       "      <td>10.5</td>\n",
       "      <td>0</td>\n",
       "      <td>1</td>\n",
       "      <td>1</td>\n",
       "      <td>0</td>\n",
       "      <td>0</td>\n",
       "      <td>3</td>\n",
       "      <td>0</td>\n",
       "    </tr>\n",
       "    <tr>\n",
       "      <th>18905304033</th>\n",
       "      <td>1</td>\n",
       "      <td>1984</td>\n",
       "      <td>56</td>\n",
       "      <td>0.0</td>\n",
       "      <td>1</td>\n",
       "      <td>0.4000</td>\n",
       "      <td>0</td>\n",
       "      <td>9.0</td>\n",
       "      <td>1</td>\n",
       "      <td>1</td>\n",
       "      <td>1</td>\n",
       "      <td>0</td>\n",
       "      <td>0</td>\n",
       "      <td>4</td>\n",
       "      <td>0</td>\n",
       "    </tr>\n",
       "    <tr>\n",
       "      <th>7750809773</th>\n",
       "      <td>0</td>\n",
       "      <td>1984</td>\n",
       "      <td>30</td>\n",
       "      <td>0.0</td>\n",
       "      <td>1</td>\n",
       "      <td>0.3000</td>\n",
       "      <td>1</td>\n",
       "      <td>10.5</td>\n",
       "      <td>1</td>\n",
       "      <td>1</td>\n",
       "      <td>1</td>\n",
       "      <td>0</td>\n",
       "      <td>0</td>\n",
       "      <td>0</td>\n",
       "      <td>0</td>\n",
       "    </tr>\n",
       "    <tr>\n",
       "      <th>34582790529</th>\n",
       "      <td>0</td>\n",
       "      <td>1984</td>\n",
       "      <td>29</td>\n",
       "      <td>0.0</td>\n",
       "      <td>1</td>\n",
       "      <td>0.6000</td>\n",
       "      <td>1</td>\n",
       "      <td>10.5</td>\n",
       "      <td>1</td>\n",
       "      <td>1</td>\n",
       "      <td>1</td>\n",
       "      <td>0</td>\n",
       "      <td>0</td>\n",
       "      <td>0</td>\n",
       "      <td>0</td>\n",
       "    </tr>\n",
       "    <tr>\n",
       "      <th>29768366009</th>\n",
       "      <td>1</td>\n",
       "      <td>1984</td>\n",
       "      <td>49</td>\n",
       "      <td>0.0</td>\n",
       "      <td>1</td>\n",
       "      <td>0.3500</td>\n",
       "      <td>0</td>\n",
       "      <td>11.5</td>\n",
       "      <td>1</td>\n",
       "      <td>1</td>\n",
       "      <td>0</td>\n",
       "      <td>1</td>\n",
       "      <td>0</td>\n",
       "      <td>1</td>\n",
       "      <td>0</td>\n",
       "    </tr>\n",
       "    <tr>\n",
       "      <th>48833593911</th>\n",
       "      <td>1</td>\n",
       "      <td>1984</td>\n",
       "      <td>55</td>\n",
       "      <td>0.0</td>\n",
       "      <td>0</td>\n",
       "      <td>0.3425</td>\n",
       "      <td>0</td>\n",
       "      <td>9.0</td>\n",
       "      <td>1</td>\n",
       "      <td>0</td>\n",
       "      <td>1</td>\n",
       "      <td>0</td>\n",
       "      <td>0</td>\n",
       "      <td>8</td>\n",
       "      <td>0</td>\n",
       "    </tr>\n",
       "    <tr>\n",
       "      <th>4103228763</th>\n",
       "      <td>0</td>\n",
       "      <td>1984</td>\n",
       "      <td>49</td>\n",
       "      <td>0.0</td>\n",
       "      <td>1</td>\n",
       "      <td>0.3300</td>\n",
       "      <td>1</td>\n",
       "      <td>10.5</td>\n",
       "      <td>1</td>\n",
       "      <td>1</td>\n",
       "      <td>1</td>\n",
       "      <td>0</td>\n",
       "      <td>0</td>\n",
       "      <td>0</td>\n",
       "      <td>0</td>\n",
       "    </tr>\n",
       "    <tr>\n",
       "      <th>50953736843</th>\n",
       "      <td>0</td>\n",
       "      <td>1984</td>\n",
       "      <td>34</td>\n",
       "      <td>0.0</td>\n",
       "      <td>1</td>\n",
       "      <td>0.1800</td>\n",
       "      <td>0</td>\n",
       "      <td>10.5</td>\n",
       "      <td>0</td>\n",
       "      <td>1</td>\n",
       "      <td>1</td>\n",
       "      <td>0</td>\n",
       "      <td>0</td>\n",
       "      <td>0</td>\n",
       "      <td>0</td>\n",
       "    </tr>\n",
       "    <tr>\n",
       "      <th>79543652661</th>\n",
       "      <td>1</td>\n",
       "      <td>1984</td>\n",
       "      <td>44</td>\n",
       "      <td>0.0</td>\n",
       "      <td>0</td>\n",
       "      <td>0.3000</td>\n",
       "      <td>1</td>\n",
       "      <td>9.0</td>\n",
       "      <td>1</td>\n",
       "      <td>0</td>\n",
       "      <td>1</td>\n",
       "      <td>0</td>\n",
       "      <td>0</td>\n",
       "      <td>0</td>\n",
       "      <td>0</td>\n",
       "    </tr>\n",
       "    <tr>\n",
       "      <th>38665772663</th>\n",
       "      <td>0</td>\n",
       "      <td>1984</td>\n",
       "      <td>31</td>\n",
       "      <td>0.0</td>\n",
       "      <td>1</td>\n",
       "      <td>0.3500</td>\n",
       "      <td>1</td>\n",
       "      <td>12.0</td>\n",
       "      <td>1</td>\n",
       "      <td>1</td>\n",
       "      <td>0</td>\n",
       "      <td>0</td>\n",
       "      <td>1</td>\n",
       "      <td>0</td>\n",
       "      <td>0</td>\n",
       "    </tr>\n",
       "  </tbody>\n",
       "</table>\n",
       "</div>"
      ],
      "text/plain": [
       "             FEMALE  YEAR  AGE  HANDDUM  WORKING  HHNINC  HHKIDS  EDUC  \\\n",
       "pseudo_id                                                                \n",
       "69201486333       0  1984   37      0.0        1  0.2700       1  10.5   \n",
       "42973005203       0  1984   44      0.0        1  0.4400       1  10.5   \n",
       "2354729633        1  1984   49      0.0        0  0.5200       1  14.5   \n",
       "1881880583        1  1984   47      0.0        0  0.1900       1   9.0   \n",
       "2248085939        0  1984   48      1.0        1  0.2000       1  10.5   \n",
       "18410790113       0  1984   34      0.0        1  0.3000       0  10.5   \n",
       "29659153689       1  1984   42      0.0        0  0.3800       1  18.0   \n",
       "74906754161       1  1984   41      0.0        0  0.2900       1  10.5   \n",
       "1605716123        1  1984   62      0.0        0  0.2000       0   9.0   \n",
       "39211620869       0  1984   60      0.0        1  0.4000       0  18.0   \n",
       "14519698853       0  1984   44      0.0        1  0.1900       0  10.5   \n",
       "18905304033       1  1984   56      0.0        1  0.4000       0   9.0   \n",
       "7750809773        0  1984   30      0.0        1  0.3000       1  10.5   \n",
       "34582790529       0  1984   29      0.0        1  0.6000       1  10.5   \n",
       "29768366009       1  1984   49      0.0        1  0.3500       0  11.5   \n",
       "48833593911       1  1984   55      0.0        0  0.3425       0   9.0   \n",
       "4103228763        0  1984   49      0.0        1  0.3300       1  10.5   \n",
       "50953736843       0  1984   34      0.0        1  0.1800       0  10.5   \n",
       "79543652661       1  1984   44      0.0        0  0.3000       1   9.0   \n",
       "38665772663       0  1984   31      0.0        1  0.3500       1  12.0   \n",
       "\n",
       "             MARRIED  WORKING.1  BLUEC  WHITEC  SELF  DOCVIS  HOSPVIS  \n",
       "pseudo_id                                                              \n",
       "69201486333        0          1      1       0     0       0        0  \n",
       "42973005203        1          1      0       1     0       4        0  \n",
       "2354729633         1          0      0       0     0       1        0  \n",
       "1881880583         1          0      0       0     0       0        0  \n",
       "2248085939         1          1      0       0     1       3        0  \n",
       "18410790113        0          1      0       0     0       1        0  \n",
       "29659153689        1          0      0       1     0      18        1  \n",
       "74906754161        1          0      0       0     0       0        0  \n",
       "1605716123         1          0      0       0     0       4        0  \n",
       "39211620869        1          1      0       0     1       3        0  \n",
       "14519698853        0          1      1       0     0       3        0  \n",
       "18905304033        1          1      1       0     0       4        0  \n",
       "7750809773         1          1      1       0     0       0        0  \n",
       "34582790529        1          1      1       0     0       0        0  \n",
       "29768366009        1          1      0       1     0       1        0  \n",
       "48833593911        1          0      1       0     0       8        0  \n",
       "4103228763         1          1      1       0     0       0        0  \n",
       "50953736843        0          1      1       0     0       0        0  \n",
       "79543652661        1          0      1       0     0       0        0  \n",
       "38665772663        1          1      0       0     1       0        0  "
      ]
     },
     "execution_count": 54,
     "metadata": {},
     "output_type": "execute_result"
    }
   ],
   "source": [
    "sample_records_anon.head(20)"
   ]
  },
  {
   "cell_type": "markdown",
   "metadata": {},
   "source": [
    "### Cracking the pseudonymization\n",
    "\n",
    "**Step 7.** Once you have received `known_records.csv` and `sample_records_anon.csv` from your partner, download them to the same folder of this Jupyter notebook (you can overwrite yours)."
   ]
  },
  {
   "cell_type": "markdown",
   "metadata": {},
   "source": [
    "**Step 8 *(action required)*.** Now try to reverse engineer your partner's secret function using **his/her** `known_records.csv`! That is, try to find the function your partner used to pseudonymize the IDs. This means that you have to find the coefficients he/she chose. (Hint: you might find `numpy.polyfit` useful)"
   ]
  },
  {
   "cell_type": "code",
   "execution_count": 56,
   "metadata": {
    "collapsed": true
   },
   "outputs": [
    {
     "name": "stdout",
     "output_type": "stream",
     "text": [
      "[8.         6.         8.99999381]\n"
     ]
    }
   ],
   "source": [
    "known_records = pd.read_csv(\"known_records.csv\", index_col='id') # import your partner's known_records.csv\n",
    "known_ids = known_records.index.values # this is an array with 20 known IDs\n",
    "pseudo_ids = known_records['pseudo_id'].values # this is the array with their respective 20 pseudo-IDs\n",
    "\n",
    "x = known_ids\n",
    "y = pseudo_ids\n",
    "\n",
    "\n",
    "cracked_coeff = np.polyfit(x, y, 2) ### YOUR CODE HERE\n",
    "\n",
    "print(cracked_coeff)"
   ]
  },
  {
   "cell_type": "markdown",
   "metadata": {},
   "source": [
    "**Step 9 *(action required)*.** Now you should've successfully found your partner's function. Great! But we are not done yet. Remember that the real secret is not the function, but the real IDs! So there is one last step to complete:\n",
    "\n",
    "Use the reverse engineered function to re-identify each record in `sample_records_anon.csv`. \n",
    "\n",
    "Hint 1: Suppose you found that your partner's hash function is $3 x^2 + 10 x + 7$, and you want to re-identify (for example) the pseudo-ID 63231897340. Then you need to solve the equation $63231897340 = 3 x^2 + 10 x + 7$, and the solution(s) to the equation will be the original ID! To solve the exercise you need to generalize this example.\n",
    "\n",
    "Hint 2: You might find `numpy.roots` useful."
   ]
  },
  {
   "cell_type": "code",
   "execution_count": 67,
   "metadata": {
    "collapsed": true,
    "scrolled": true
   },
   "outputs": [
    {
     "data": {
      "text/html": [
       "<div>\n",
       "<style scoped>\n",
       "    .dataframe tbody tr th:only-of-type {\n",
       "        vertical-align: middle;\n",
       "    }\n",
       "\n",
       "    .dataframe tbody tr th {\n",
       "        vertical-align: top;\n",
       "    }\n",
       "\n",
       "    .dataframe thead th {\n",
       "        text-align: right;\n",
       "    }\n",
       "</style>\n",
       "<table border=\"1\" class=\"dataframe\">\n",
       "  <thead>\n",
       "    <tr style=\"text-align: right;\">\n",
       "      <th></th>\n",
       "      <th>FEMALE</th>\n",
       "      <th>YEAR</th>\n",
       "      <th>AGE</th>\n",
       "      <th>HANDDUM</th>\n",
       "      <th>WORKING</th>\n",
       "      <th>HHNINC</th>\n",
       "      <th>HHKIDS</th>\n",
       "      <th>EDUC</th>\n",
       "      <th>MARRIED</th>\n",
       "      <th>WORKING.1</th>\n",
       "      <th>BLUEC</th>\n",
       "      <th>WHITEC</th>\n",
       "      <th>SELF</th>\n",
       "      <th>DOCVIS</th>\n",
       "      <th>HOSPVIS</th>\n",
       "    </tr>\n",
       "    <tr>\n",
       "      <th>id</th>\n",
       "      <th></th>\n",
       "      <th></th>\n",
       "      <th></th>\n",
       "      <th></th>\n",
       "      <th></th>\n",
       "      <th></th>\n",
       "      <th></th>\n",
       "      <th></th>\n",
       "      <th></th>\n",
       "      <th></th>\n",
       "      <th></th>\n",
       "      <th></th>\n",
       "      <th></th>\n",
       "      <th></th>\n",
       "      <th></th>\n",
       "    </tr>\n",
       "  </thead>\n",
       "  <tbody>\n",
       "    <tr>\n",
       "      <th>93006.0</th>\n",
       "      <td>0</td>\n",
       "      <td>1984</td>\n",
       "      <td>37</td>\n",
       "      <td>0.0</td>\n",
       "      <td>1</td>\n",
       "      <td>0.27</td>\n",
       "      <td>1</td>\n",
       "      <td>10.5</td>\n",
       "      <td>0</td>\n",
       "      <td>1</td>\n",
       "      <td>1</td>\n",
       "      <td>0</td>\n",
       "      <td>0</td>\n",
       "      <td>0</td>\n",
       "      <td>0</td>\n",
       "    </tr>\n",
       "    <tr>\n",
       "      <th>73291.0</th>\n",
       "      <td>0</td>\n",
       "      <td>1984</td>\n",
       "      <td>44</td>\n",
       "      <td>0.0</td>\n",
       "      <td>1</td>\n",
       "      <td>0.44</td>\n",
       "      <td>1</td>\n",
       "      <td>10.5</td>\n",
       "      <td>1</td>\n",
       "      <td>1</td>\n",
       "      <td>0</td>\n",
       "      <td>1</td>\n",
       "      <td>0</td>\n",
       "      <td>4</td>\n",
       "      <td>0</td>\n",
       "    </tr>\n",
       "    <tr>\n",
       "      <th>17156.0</th>\n",
       "      <td>1</td>\n",
       "      <td>1984</td>\n",
       "      <td>49</td>\n",
       "      <td>0.0</td>\n",
       "      <td>0</td>\n",
       "      <td>0.52</td>\n",
       "      <td>1</td>\n",
       "      <td>14.5</td>\n",
       "      <td>1</td>\n",
       "      <td>0</td>\n",
       "      <td>0</td>\n",
       "      <td>0</td>\n",
       "      <td>0</td>\n",
       "      <td>1</td>\n",
       "      <td>0</td>\n",
       "    </tr>\n",
       "    <tr>\n",
       "      <th>15337.0</th>\n",
       "      <td>1</td>\n",
       "      <td>1984</td>\n",
       "      <td>47</td>\n",
       "      <td>0.0</td>\n",
       "      <td>0</td>\n",
       "      <td>0.19</td>\n",
       "      <td>1</td>\n",
       "      <td>9.0</td>\n",
       "      <td>1</td>\n",
       "      <td>0</td>\n",
       "      <td>0</td>\n",
       "      <td>0</td>\n",
       "      <td>0</td>\n",
       "      <td>0</td>\n",
       "      <td>0</td>\n",
       "    </tr>\n",
       "    <tr>\n",
       "      <th>16763.0</th>\n",
       "      <td>0</td>\n",
       "      <td>1984</td>\n",
       "      <td>48</td>\n",
       "      <td>1.0</td>\n",
       "      <td>1</td>\n",
       "      <td>0.20</td>\n",
       "      <td>1</td>\n",
       "      <td>10.5</td>\n",
       "      <td>1</td>\n",
       "      <td>1</td>\n",
       "      <td>0</td>\n",
       "      <td>0</td>\n",
       "      <td>1</td>\n",
       "      <td>3</td>\n",
       "      <td>0</td>\n",
       "    </tr>\n",
       "  </tbody>\n",
       "</table>\n",
       "</div>"
      ],
      "text/plain": [
       "         FEMALE  YEAR  AGE  HANDDUM  WORKING  HHNINC  HHKIDS  EDUC  MARRIED  \\\n",
       "id                                                                            \n",
       "93006.0       0  1984   37      0.0        1    0.27       1  10.5        0   \n",
       "73291.0       0  1984   44      0.0        1    0.44       1  10.5        1   \n",
       "17156.0       1  1984   49      0.0        0    0.52       1  14.5        1   \n",
       "15337.0       1  1984   47      0.0        0    0.19       1   9.0        1   \n",
       "16763.0       0  1984   48      1.0        1    0.20       1  10.5        1   \n",
       "\n",
       "         WORKING.1  BLUEC  WHITEC  SELF  DOCVIS  HOSPVIS  \n",
       "id                                                        \n",
       "93006.0          1      1       0     0       0        0  \n",
       "73291.0          1      0       1     0       4        0  \n",
       "17156.0          0      0       0     0       1        0  \n",
       "15337.0          0      0       0     0       0        0  \n",
       "16763.0          1      0       0     1       3        0  "
      ]
     },
     "execution_count": 67,
     "metadata": {},
     "output_type": "execute_result"
    }
   ],
   "source": [
    "sample_records_anon = pd.read_csv(\"sample_records_anon.csv\", index_col='pseudo_id')\n",
    "\n",
    "def reid(anon_id, coeff): # The re-identifying function. In the specific example, anon_id = 63231897340 and coeff = [3,10,7].\n",
    "    \n",
    "    ### YOUR CODE HERE\n",
    "    realCoeff = [coeff[0],coeff[1],coeff[2]-anon_id]\n",
    "    roots = np.roots(realCoeff)\n",
    "    return roots[1]\n",
    "\n",
    "\n",
    "\n",
    "sample_records_anon.index = [reid(anon_id, cracked_coeff) for anon_id in sample_records_anon.index.values] # re-identify every pseudo-ID\n",
    "sample_records_anon.index.name = 'id'\n",
    "sample_records_anon.head()\n",
    "#np.roots([3,10,7-63231897340])\n"
   ]
  },
  {
   "cell_type": "markdown",
   "metadata": {},
   "source": [
    "**Step 10 _(action required)_.** Check with your partner that you actually re-identified all the records in `sample_records_anon`! (compare your output of step 9 with **his/her** first output of step 6)"
   ]
  },
  {
   "cell_type": "markdown",
   "metadata": {},
   "source": [
    "### Exercise 1.B (_optional_) | Higher degree polynomials as secret formulas"
   ]
  },
  {
   "cell_type": "markdown",
   "metadata": {},
   "source": [
    "You might think that considering only polynomials of degree 2 is a big constraint, and that reverse engineering an arbitrary function would be much more challenging. However, while cracking an arbitrary function might be a bit harder, using higher degree polynomials already creates issues."
   ]
  },
  {
   "cell_type": "markdown",
   "metadata": {},
   "source": [
    "**Step 1.** Consider the following polynomial: \n",
    "$$f(x) = x^6 - 56 x^5 + 1231 x^4 - 13412 x^3 + 75028 x^2 - 199472 x + 203160.$$\n",
    "Let's define it:"
   ]
  },
  {
   "cell_type": "code",
   "execution_count": null,
   "metadata": {
    "collapsed": true
   },
   "outputs": [],
   "source": [
    "def big_poly(x):\n",
    "    a = np.array([1,-56,1231,-13412,75028,-199472,203160])\n",
    "    return np.polyval(a,x)"
   ]
  },
  {
   "cell_type": "markdown",
   "metadata": {},
   "source": [
    "**Step 2 *(action required)*.** Evaluate `big_poly` for ten random inputs of 5-digit positive integers. How big are the numbers you get?"
   ]
  },
  {
   "cell_type": "code",
   "execution_count": null,
   "metadata": {
    "collapsed": true,
    "scrolled": true
   },
   "outputs": [],
   "source": [
    "## YOUR CODE HERE\n"
   ]
  },
  {
   "cell_type": "markdown",
   "metadata": {},
   "source": [
    "**Step 3 *(action required)*.** Try to evaluate `big_poly` for inputs 2,5,7,12,14,16. What happens? Are we happy with it?"
   ]
  },
  {
   "cell_type": "code",
   "execution_count": null,
   "metadata": {
    "collapsed": true,
    "scrolled": true
   },
   "outputs": [],
   "source": [
    "## YOUR CODE HERE"
   ]
  },
  {
   "cell_type": "markdown",
   "metadata": {},
   "source": [
    "**Step 4.** Plot `big_poly` for inputs between 2 and 16 to get a better idea of how the function looks like."
   ]
  },
  {
   "cell_type": "code",
   "execution_count": null,
   "metadata": {
    "collapsed": true
   },
   "outputs": [],
   "source": [
    "import matplotlib.pyplot as plt\n",
    "xvals = np.arange(2, 17, 0.1)\n",
    "nvals = np.arange(2, 17, 1)\n",
    "plt.plot(xvals, big_poly(xvals), nvals, big_poly(nvals), 'bo');"
   ]
  },
  {
   "cell_type": "markdown",
   "metadata": {},
   "source": [
    "**Step 5 *(action required)*.** Note that the degree of our polynomial is still rather low (degree 6). Given the results you got in the previous steps, do you think that (really) high-degree polynomials would work well as secret formulas? Why?"
   ]
  },
  {
   "cell_type": "markdown",
   "metadata": {},
   "source": [
    "_Your answer here._"
   ]
  },
  {
   "cell_type": "markdown",
   "metadata": {},
   "source": [
    "# 2. Hash functions and lookup tables"
   ]
  },
  {
   "cell_type": "markdown",
   "metadata": {},
   "source": [
    "### Exercise 2.A | Breaking dataset anonymized with hash functions\n",
    "In this exercise, you will attack a dataset that has been pseudonymized *without* salt, but using a \"secret\" has function. You will use a method from the class to break the anonymity of the data, namely using a lookup table.\n",
    "\n",
    "The following dataset has been anonymized with an unknown hash function in the `hashlib` library in Python. The first step is to figure which hash function was used to encode this dataset."
   ]
  },
  {
   "cell_type": "markdown",
   "metadata": {},
   "source": [
    "#### Import the dataset"
   ]
  },
  {
   "cell_type": "code",
   "execution_count": null,
   "metadata": {
    "collapsed": true
   },
   "outputs": [],
   "source": [
    "import hashlib\n",
    "import numpy as np\n",
    "import pandas as pd"
   ]
  },
  {
   "cell_type": "code",
   "execution_count": null,
   "metadata": {
    "collapsed": true
   },
   "outputs": [],
   "source": [
    "# Import the dataset\n",
    "anonymized = pd.read_csv(\"exercice_2_a_anonymized_dataset.csv\") \n",
    "\n",
    "# Have a look\n",
    "anonymized.head()"
   ]
  },
  {
   "cell_type": "markdown",
   "metadata": {},
   "source": [
    "#### Creating lookup tables\n",
    "**Step 1 *(action required)*.** Guess which hash function has been used to hash the original IDs. (Hint: look at the [hashlib's document](https://docs.python.org/3/library/hashlib.html) and compare the available hash functions with the form of the pseudonyms in the datasets)"
   ]
  },
  {
   "cell_type": "code",
   "execution_count": null,
   "metadata": {
    "collapsed": true
   },
   "outputs": [],
   "source": [
    "## YOUR CODE AND ANSWER HERE"
   ]
  },
  {
   "cell_type": "markdown",
   "metadata": {},
   "source": [
    "**Step 2 *(action required)*.** Now you know which hash function has been used. Suppose you have somehow discovered that the original IDs were 5-digit numbers (from 00000 to 99999). Create a function `create_lookup_table` that takes the length of the original ids as parameter and returns the complete lookup table. This lookup table is a _dictionary_ where the values are the original IDs and the keys are their hash, hence allowing to recover the corresponding ID from the hashed ID.\n",
    "\n",
    "We will later use the lookup table to bruteforce the hashed ids. \n",
    "\n",
    "_Hints: _\n",
    "\n",
    "1. To fill an integer with leading zeroes, you can use the method `zfill` of strings.\n",
    "2. To hash a string `s` with a hash function `hf`, you can do: `hashlib.hf(s.encode()).hexdigest()`."
   ]
  },
  {
   "cell_type": "code",
   "execution_count": null,
   "metadata": {
    "collapsed": true
   },
   "outputs": [],
   "source": [
    "def create_lookup_table(N):\n",
    "    \n",
    "    ### YOUR CODE HERE\n",
    "    pass\n"
   ]
  },
  {
   "cell_type": "code",
   "execution_count": null,
   "metadata": {
    "collapsed": true
   },
   "outputs": [],
   "source": [
    "# create the table here\n",
    "my_lookup_table = create_lookup_table(5)"
   ]
  },
  {
   "cell_type": "markdown",
   "metadata": {},
   "source": [
    "#### Using the lookup table\n",
    "**Step 3 *(action required)*.** Let us now check that your intuition from **Step 1** is correct. For the lookup table you created, calculate the percentage of the hashed ids in the dataset that are also in this table. Create a function `intersection_size` that takes as parameters the dataset and the lookup table and returns this percentage. If you correctly identified this number, this function should thus return 100."
   ]
  },
  {
   "cell_type": "code",
   "execution_count": null,
   "metadata": {
    "collapsed": true
   },
   "outputs": [],
   "source": [
    "def intersection_size(dataset,lookup_table):\n",
    "        \n",
    "    ### YOUR CODE HERE\n",
    "    pass\n",
    "\n",
    "\n",
    "intersection_size(anonymized,create_lookup_table(5))"
   ]
  },
  {
   "cell_type": "markdown",
   "metadata": {},
   "source": [
    "#### Reversing the hashed id\n",
    "**Step 4 *(action required)*.** Now that you know which lookup table to use, use it to reverse the hashed ids. Create a function `break_dataset` that takes the dataset and the lookup table as argument and outputs the deanonymized dataset."
   ]
  },
  {
   "cell_type": "code",
   "execution_count": null,
   "metadata": {
    "collapsed": true
   },
   "outputs": [],
   "source": [
    "def break_dataset(dataset,lookup_table):\n",
    "\n",
    "    # YOUR CODE HERE\n",
    "    pass\n",
    "\n",
    "\n",
    "break_dataset(anonymized,create_lookup_table(5))"
   ]
  },
  {
   "cell_type": "markdown",
   "metadata": {},
   "source": [
    "### Exercise 2.B (optional) | Breaking dataset anonymized with md5 and short salt\n",
    "\n",
    "In the last section, you have successfully re-identify a dataset that was protected with only a hash function. Because this is not immune to bruteforcing as you have seen by yourself, a good practice is to salt it (with a long salt).\n",
    "\n",
    "The following dataset has been anonymized with the md5 hash function in the `hashlib` library in Python and a short salt (length 1) added anywhere in the initial id. You are going to adapt the previous method to re-identify the dataset despite the short salt."
   ]
  },
  {
   "cell_type": "markdown",
   "metadata": {},
   "source": [
    "#### Import the dataset"
   ]
  },
  {
   "cell_type": "code",
   "execution_count": null,
   "metadata": {
    "collapsed": true
   },
   "outputs": [],
   "source": [
    "# Import the dataset\n",
    "anonymized = pd.read_csv(\"exercice_2_b_anonymized_dataset.csv\") \n",
    "\n",
    "# Have a look\n",
    "anonymized.head()"
   ]
  },
  {
   "cell_type": "markdown",
   "metadata": {},
   "source": [
    "#### Creating the lookup table\n",
    "**Step 1 *(action required)*.** Breaking a salted MD5 hash is more difficult because of the increased number of combinations but the method is the same as earlier. You will have to create a lookup table for each possible position of the salt and each number between 0 and 9. Create a function `create_lookup_table` that takes the length of the ids, the position of the salt and the salt itself as parameters and returns the lookup table corresponding to this salt position and salt value. "
   ]
  },
  {
   "cell_type": "code",
   "execution_count": null,
   "metadata": {
    "collapsed": true
   },
   "outputs": [],
   "source": [
    "def create_lookup_table(N,position,salt):\n",
    "\n",
    "    # YOUR CODE HERE\n",
    "    pass\n"
   ]
  },
  {
   "cell_type": "markdown",
   "metadata": {},
   "source": [
    "#### Finding the correct table\n",
    "**Step 2 *(action required)*.** Same as before, find the table that contains 100% of the hashed ids. This indirectly gives you the position of the salt and its value. Reuse the `intersection_size` function of exercice 2.a and the previous function to define a function `find_lookup_table` taking the anonymized dataset as parameters and returning the correct lookup table."
   ]
  },
  {
   "cell_type": "code",
   "execution_count": null,
   "metadata": {
    "collapsed": true
   },
   "outputs": [],
   "source": [
    "def find_lookup_table(dataset):\n",
    "    \n",
    "    ## YOUR CODE HERE\n",
    "    pass\n",
    "\n",
    "\n",
    "\n",
    "table = find_lookup_table(anonymized)"
   ]
  },
  {
   "cell_type": "markdown",
   "metadata": {},
   "source": [
    "#### Using the lookup table\n",
    "**Step 3 *(action required)*.** Now that you have the correct lookup table, use it to reverse the salted hashed ids as before. Use the `break_dataset` function defined in exercice 2.a and the lookup table of the previous question to deanonymize the dataset."
   ]
  },
  {
   "cell_type": "code",
   "execution_count": null,
   "metadata": {
    "collapsed": true,
    "scrolled": true
   },
   "outputs": [],
   "source": [
    "## YOUR CODE HERE"
   ]
  },
  {
   "cell_type": "markdown",
   "metadata": {},
   "source": [
    "# 3. Hashing with long salt (optional)"
   ]
  },
  {
   "cell_type": "markdown",
   "metadata": {},
   "source": [
    "### Exercise 3 (optional) | Breaking dataset anonymized with md5 and long salt\n",
    "In real life situation, properly pseudonymized datasets use long salts of unknown length. \n",
    "\n",
    "Let's assume that you are in the ideal attack situation: \n",
    "- you know the length of the salt (a standard string of 255 lowercase letters here)\n",
    "- you know the hash function (md5)\n",
    "- you know a couple of tuples (real id, hashed id)\n",
    "- you know the position of the salt (appended at the end of the real id) \n",
    "\n",
    "Note that in general it might be hard for an attacker to gain this background information. However, a fundamental principle in computer security is that _security through obscurity_ is not a robust approach (see also [Kerckhoffs's principle](https://en.wikipedia.org/wiki/Kerckhoffs%27s_principle)).\n",
    "\n",
    "The only thing that you don't know is the salt itself. Adapting what has been done in exercice 2 and knowing all this external information to reduce the searching space, find the salt to deanonymize the dataset."
   ]
  },
  {
   "cell_type": "markdown",
   "metadata": {},
   "source": [
    "#### Import the dataset"
   ]
  },
  {
   "cell_type": "code",
   "execution_count": null,
   "metadata": {
    "collapsed": true
   },
   "outputs": [],
   "source": [
    "# Import the dataset\n",
    "anonymized = pd.read_csv(\"exercice_3_anonymized_dataset.csv\") \n",
    "\n",
    "# Have a look\n",
    "anonymized.head()"
   ]
  },
  {
   "cell_type": "markdown",
   "metadata": {},
   "source": [
    "#### Finding the salt\n",
    "**Step 1 *(action required)*.** Create a function `find_salt` that takes the dataset, the id_known and the corresponding_hashed_ids as parameters and returns the salt. Run it to get the salt."
   ]
  },
  {
   "cell_type": "code",
   "execution_count": null,
   "metadata": {
    "collapsed": true
   },
   "outputs": [],
   "source": [
    "# External knowledge\n",
    "id_known = [75721, 80184, 19864, 76699, 92991]\n",
    "corresponding_hashed_ids = ['4970daee1c3236a77bf045577f0ee62b',\n",
    "        '4f8bcc5db2565c5a96d4452ed9edbaca',\n",
    "        'e9a579e5e070bc9a339c0b1819088628',\n",
    "        '61594b8066fbb7fab77bc53e098e5f7c',\n",
    "        '484a013245c1929c8337c7cddb745ba0']\n",
    "\n",
    "\n",
    "def find_salt(dataset,id_known,corresponding_hashed_ids):\n",
    "    for salt in itertools.product(string.ascii_lowercase,repeat=255):  \n",
    "\n",
    "        ## YOUR CODE HERE\n",
    "        pass\n",
    "        \n",
    "\n",
    "\n",
    "salt = find_salt(anonymized,id_known,corresponding_hashed_ids)"
   ]
  },
  {
   "cell_type": "markdown",
   "metadata": {},
   "source": [
    "**Step 2 *(action required)*.** How long is it taking? How many strings does your code have to try for the salt? Do you think you will ever find the salt?"
   ]
  },
  {
   "cell_type": "markdown",
   "metadata": {},
   "source": [
    "_Your answer here._"
   ]
  },
  {
   "cell_type": "markdown",
   "metadata": {},
   "source": [
    "## Exercise 4 | k-anonymizing a dataset"
   ]
  },
  {
   "cell_type": "markdown",
   "metadata": {},
   "source": [
    "In this exercise, you will take a (correctly) pseudonymised dataset, and $k-$anonymise it to protect against re-identification attacks based on quasi-identifiers. You will then perform an attack to show the limit of $k-$anonymity.\n",
    "\n",
    "In the dataset we consider, the meaning of each attribute is:\n",
    "\n",
    "`id` = hashed (pseudonymous) id <br>\n",
    "`gender` = male or female <br>\n",
    "`education` = the level of education, 0 = highschools, 1 = bachelors, 2 = masters, 3 = PhD<br>\n",
    "`age` = age in years<br>\n",
    "`vote` = Conservative, Labour or other<br>\n",
    "\n",
    "**Take a moment to think about each attribute and figure if it is a quasi-identifier or sensitive information.**"
   ]
  },
  {
   "cell_type": "markdown",
   "metadata": {},
   "source": [
    "### Loading the data"
   ]
  },
  {
   "cell_type": "code",
   "execution_count": null,
   "metadata": {
    "collapsed": true
   },
   "outputs": [],
   "source": [
    "import pandas as pd\n",
    "import numpy as np\n",
    "import hashlib\n",
    "import random\n",
    "import matplotlib.pyplot as plt\n",
    "import collections"
   ]
  },
  {
   "cell_type": "code",
   "execution_count": null,
   "metadata": {
    "collapsed": true
   },
   "outputs": [],
   "source": [
    "dataset1  = pd.read_csv(\"exercise4.csv\")\n",
    "dataset1.head()"
   ]
  },
  {
   "cell_type": "markdown",
   "metadata": {},
   "source": [
    "### 4.A | Anonymizing the dataset\n",
    "\n",
    "Firstly, let's inspect the dataset and compute the equivalence classes. Then, we will perform the $k-$anonymization by removing rows belonging to small equivalence classes (this works because our dataset is not very rich, and a lot of records are naturally part of a large equivalence class).\n",
    "\n",
    "#### 4.A.i | Inspecting the equivalence classes\n",
    "\n",
    "**Step 1 *(action required)*.** We want to take a look at the equivalence classes and their number of elements in order to k-anonymize the dataset. \n",
    "\n",
    "Start by defining a function `size_equivalence_classes` that takes a dataset as parameter and returns the list of the sizes of its equivalence classes.\n",
    "\n",
    "_Hint: Use the `groupby` function._"
   ]
  },
  {
   "cell_type": "code",
   "execution_count": null,
   "metadata": {
    "collapsed": true
   },
   "outputs": [],
   "source": [
    "def size_equivalence_classes(dataset):\n",
    "    '''Returns the list of sizes of the equivalence classes in the dataset.'''\n",
    "    \n",
    "    # YOUR CODE HERE\n",
    "    pass\n",
    "    "
   ]
  },
  {
   "cell_type": "markdown",
   "metadata": {},
   "source": [
    "**Step 2.** Now let's plot the distribution of equivalence classes as a histogram."
   ]
  },
  {
   "cell_type": "code",
   "execution_count": null,
   "metadata": {
    "collapsed": true
   },
   "outputs": [],
   "source": [
    "# Run this cell to see the results of the plot\n",
    "\n",
    "# compute the size of equivalence classes\n",
    "nb = size_equivalence_classes(dataset1)\n",
    "\n",
    "# plot a histogram\n",
    "plt.figure(figsize=(15,10))\n",
    "a = plt.hist(nb, bins=max(nb)-1, align='left', width=.9)\n",
    "print(a)\n",
    "plt.xlabel(\"Size of Equivalence Classes\") # with nice axis and title!\n",
    "plt.ylabel(\"Number of Equivalence Classes\")\n",
    "plt.title(\"Number of Equivalence Classes by Size of Equivalence Classes\")\n",
    "plt.xticks(range(max(nb))); # for ticks on the x axis to go from 1 to max"
   ]
  },
  {
   "cell_type": "markdown",
   "metadata": {},
   "source": [
    "#### 4.A.ii | Removing equivalence classes\n",
    "\n",
    "Suppose that we want to 4-anonymize this dataset by _only removing rows_ (no generalisation, column suppression, etc). What is the minimum number of rows that you would need to remove in order to assure 4-anonymity ? \n",
    "\n",
    "**Step 3 *(action required)*.** Using the previous function to create the dictionary of the number of equivalence classes, define a function `nb_to_remove` that takes k and the dataset as parameters and returns the minimum number of rows to remove in order to assure k-anonymity of the dataset."
   ]
  },
  {
   "cell_type": "code",
   "execution_count": null,
   "metadata": {
    "collapsed": true
   },
   "outputs": [],
   "source": [
    "def nb_to_remove(k,dataset):\n",
    "    \n",
    "    lengths = size_equivalence_classes(dataset)\n",
    "\n",
    "    # YOUR CODE HERE\n",
    "    pass\n",
    "\n",
    "\n",
    "nb_to_remove(4,dataset1)"
   ]
  },
  {
   "cell_type": "markdown",
   "metadata": {},
   "source": [
    "Now we want to find _which rows_ need to be removed in order to achieve a given level of anonymity k.\n",
    "\n",
    "**Step 4 *(action required)*.** Define a function `to_be_removed` that takes k and the dataset as parameters and returns the list of rows to remove. (You should check that the length of this list is the same as the result of the previous question)\n",
    "\n",
    "_Hint: use `groupby` again, and the `.index` attribute of a `pandas.DataFrame` to obtain recods._"
   ]
  },
  {
   "cell_type": "code",
   "execution_count": null,
   "metadata": {
    "collapsed": true
   },
   "outputs": [],
   "source": [
    "def to_be_removed(k,dataset):\n",
    "    \n",
    "    result = []\n",
    "    \n",
    "    ## YOUR CODE HERE\n",
    "                \n",
    "    return result"
   ]
  },
  {
   "cell_type": "markdown",
   "metadata": {},
   "source": [
    "**Step 5 *(action required)*.** It is now time to actually remove these rows. Define a function `remove_rows` taking as parameters k and the dataset and returning the k-anonymized dataset, that uses `to_be_removed` to identify the rows to remove. In order to keep the original one intact, work on a copy of it.\n",
    "\n",
    "(Hint: the `drop` method of a pandas DataFrame is quick enough for a small dataset like this one)"
   ]
  },
  {
   "cell_type": "code",
   "execution_count": null,
   "metadata": {
    "collapsed": true
   },
   "outputs": [],
   "source": [
    "def remove_rows(k,dataset):\n",
    "    \n",
    "    result = dataset.copy()\n",
    "    \n",
    "    # YOUR CODE HERE\n",
    "    \n",
    "    return result"
   ]
  },
  {
   "cell_type": "markdown",
   "metadata": {},
   "source": [
    "**Step 6 _(action required)_** Check that your code works by plotting the size of the equivalence classes of a k_anonymized dataset (you choose the `k`)."
   ]
  },
  {
   "cell_type": "code",
   "execution_count": null,
   "metadata": {
    "collapsed": true
   },
   "outputs": [],
   "source": [
    "k = ### YOUR CHOICE\n",
    "\n",
    "k_anonymized = remove_rows(k,dataset1)"
   ]
  },
  {
   "cell_type": "code",
   "execution_count": null,
   "metadata": {
    "collapsed": true
   },
   "outputs": [],
   "source": [
    "# Run this cell (again) to see the results of the plot\n",
    "\n",
    "# compute the size of equivalence classes\n",
    "nb = size_equivalence_classes(k_anonymized)\n",
    "\n",
    "# plot a histogram\n",
    "plt.figure(figsize=(15,10))\n",
    "plt.hist(nb, bins=max(nb)-1-min(nb), align='left', rwidth=.9)\n",
    "plt.xlabel(\"Size of Equivalence Classes\") # with nice axis and title!\n",
    "plt.ylabel(\"Number of Equivalence Classes\")\n",
    "plt.title(\"Number of Equivalence Classes by Size of Equivalence Classes\")\n",
    "plt.xticks(range(max(nb))); # for ticks on the x axis to go from 1 to max"
   ]
  },
  {
   "cell_type": "markdown",
   "metadata": {},
   "source": [
    "### 4.B | Homogeneity attacks\n",
    "\n",
    "We want to check whether a k-anonymized dataset is vulnerable to any _homogeneity attack_ (that is the case when at least one of the equivalence classes has the same sensitive attribute value accross its rows). This will be used to check the dataset you just 4-anonymized in the previous section.\n",
    "\n",
    "**Step 1 *(action required)*.** Define a function `homogeneity_attackable` that takes the anonymized dataset as parameter and return a boolean indicating whether an homogeneity attack is possible or not on the anonymized dataset. "
   ]
  },
  {
   "cell_type": "code",
   "execution_count": null,
   "metadata": {
    "collapsed": true
   },
   "outputs": [],
   "source": [
    "def homogeneity_attackable(dataset):\n",
    "    \n",
    "    # YOUR CODE HERE\n",
    "    pass\n"
   ]
  },
  {
   "cell_type": "markdown",
   "metadata": {},
   "source": [
    "**Step 2 *(action required)*.** The value of k chosen earlier directly impacts the level of protection against homogeneity attacks. You can play with this function and the `remove_rows` function when you are done with exercise 2 to check it yourself. What is the smallest `k` for which the dataset is safe? How many records are left after that?"
   ]
  },
  {
   "cell_type": "code",
   "execution_count": null,
   "metadata": {
    "collapsed": true
   },
   "outputs": [],
   "source": [
    "k = ### YOUR CHOICE HERE\n",
    "\n",
    "k_anonymized = remove_rows(k,dataset1)\n",
    "\n",
    "print('records left:', len((k_anonymized)))\n",
    "\n",
    "homogeneity_attackable(k_anonymized)"
   ]
  },
  {
   "cell_type": "markdown",
   "metadata": {},
   "source": [
    "## Exercise 5 | Semantic attacks"
   ]
  },
  {
   "cell_type": "markdown",
   "metadata": {},
   "source": [
    "In this exercise, we are providing you with another dataset that has been properly pseudonymized and 3-anonymized. We want to make sure that a semantic attack is not possible before publishing it. \n",
    "\n",
    "#### Load the dataset"
   ]
  },
  {
   "cell_type": "code",
   "execution_count": null,
   "metadata": {
    "collapsed": true
   },
   "outputs": [],
   "source": [
    "dataset2 = pd.read_csv('exercise5.csv')\n",
    "dataset2.head()"
   ]
  },
  {
   "cell_type": "markdown",
   "metadata": {},
   "source": [
    "#### A function to detect semantic similarity \n",
    "\n",
    "A _semantic attack_ uses real-world knowledge of the private attribute to learn something about users in the dataset. If all people in an equivalence class have the word `cancer` in their `disease` field, then clearly the attacker can learn something about the people in this class.\n",
    "\n",
    "**Step 1.** We define a function `too_close` that takes a list of strings (typically diseases names here) `string_list` and a list of stop words (i.e. words that do not give any information, such as 'disease' in this case) `stop_words` as parameters, and returns a boolean indicating whether all the strings in `string_list` all share at least one word, and that word is not in the `stop_word` list. For instance `string_list = [\"skin cancer\",\"prostate cancer\"]` and `stop_words = ['disease']` should return True, but if `stop_words=['cancer']`, it should return False. For simplicity, the function is already defined, but you should read the code and understand how it works (it uses [sets](https://snakify.org/en/lessons/sets/))."
   ]
  },
  {
   "cell_type": "code",
   "execution_count": null,
   "metadata": {
    "collapsed": true
   },
   "outputs": [],
   "source": [
    "def too_close(string_list,stop_words):\n",
    "    '''Returns True if all strings in string_list share a word, that is not part of stop words'''\n",
    "    \n",
    "    # defensive programming: ensure correct input format (can be passed any iterable)\n",
    "    string_list = list(string_list)\n",
    "    stop_words  = list(stop_words)\n",
    "    \n",
    "    if not string_list:\n",
    "        return False # no string in the list!\n",
    "\n",
    "    # create the initial bag of shared words from the first string\n",
    "    words = set(string_list[0].lower().split())\n",
    "    \n",
    "    # remove all stop words from this list (they can't be part of the intersection)\n",
    "    words.difference_update( set(stop_words) )\n",
    "        \n",
    "    for s in string_list[1:]:\n",
    "        # compute the intersection of words shared by previous strings and the string s\n",
    "        words.intersection_update(set(s.lower().split()))\n",
    "    \n",
    "    # do all strings share at least one non-stop word?\n",
    "    return len(words) > 0"
   ]
  },
  {
   "cell_type": "code",
   "execution_count": null,
   "metadata": {
    "collapsed": true
   },
   "outputs": [],
   "source": [
    "# test 1\n",
    "too_close(['skin cancer', 'prostate cancer'], ['disease'])"
   ]
  },
  {
   "cell_type": "code",
   "execution_count": null,
   "metadata": {
    "collapsed": true
   },
   "outputs": [],
   "source": [
    "# test 2\n",
    "too_close(['skin cancer', 'prostate cancer'], ['cancer'])"
   ]
  },
  {
   "cell_type": "markdown",
   "metadata": {},
   "source": [
    "**Step 2 *(action required)*.** Now define a function `semantically_attackable` that takes as a parameter an anonymized dataset and returns a boolean indicating whether or not that dataset is semantically attackable. Treat the word `disease` as a stop word (as all people in the dataset have a disease, it is not informative).\n",
    "\n",
    "_Hint: adapt exercise 4.B._"
   ]
  },
  {
   "cell_type": "code",
   "execution_count": null,
   "metadata": {
    "collapsed": true
   },
   "outputs": [],
   "source": [
    "def semantically_attackable(dataset):\n",
    "    \n",
    "    # YOUR CODE HERE\n",
    "    pass\n"
   ]
  },
  {
   "cell_type": "markdown",
   "metadata": {},
   "source": [
    "#### Detecting vulnerability to semantic attacks\n",
    "**Step 3.** Use this function to check whether or not this dataset is semantically attackable. Is it possible to perform homogeneity attack on this dataset ?"
   ]
  },
  {
   "cell_type": "code",
   "execution_count": null,
   "metadata": {
    "collapsed": true
   },
   "outputs": [],
   "source": [
    "homogeneity_attackable(dataset2)"
   ]
  },
  {
   "cell_type": "code",
   "execution_count": null,
   "metadata": {
    "collapsed": true
   },
   "outputs": [],
   "source": [
    "semantically_attackable(dataset2)"
   ]
  },
  {
   "cell_type": "markdown",
   "metadata": {},
   "source": [
    "**Step 4 *(action required)*.** What do you think about the method we used to check whether the elements of an equivalence class are too close to each other? Does it generalise well to other problems? Is it too restrictive/not enough restrictive?"
   ]
  },
  {
   "cell_type": "markdown",
   "metadata": {},
   "source": [
    "_Your answer here._"
   ]
  },
  {
   "cell_type": "markdown",
   "metadata": {},
   "source": [
    "## Exercise 4 - second round (optional)"
   ]
  },
  {
   "cell_type": "markdown",
   "metadata": {},
   "source": [
    "#### 4.A.iii | Analysing the k-anonymized dataset\n",
    "\n",
    "When k-anonymizing datasets it is important to keep in mind the use case and the utility of your data. If you anonymize it too harshly, the level of privacy protection is indeed better but the usability of the data might really go down. \n",
    "\n",
    "**Step 1.** Lets take a look back at the dataset you 4-anonymized earlier."
   ]
  },
  {
   "cell_type": "code",
   "execution_count": null,
   "metadata": {
    "collapsed": true
   },
   "outputs": [],
   "source": [
    "remove_rows(4,dataset1).head()"
   ]
  },
  {
   "cell_type": "markdown",
   "metadata": {},
   "source": [
    "**Step 2.** Use the function value_counts in pandas and the plot method to check the result of the election before and after anonymization."
   ]
  },
  {
   "cell_type": "code",
   "execution_count": null,
   "metadata": {
    "collapsed": true
   },
   "outputs": [],
   "source": [
    "pd.value_counts(dataset1['vote']).plot.bar()\n",
    "print(pd.value_counts(dataset1['vote']))"
   ]
  },
  {
   "cell_type": "code",
   "execution_count": null,
   "metadata": {
    "collapsed": true
   },
   "outputs": [],
   "source": [
    "pd.value_counts(remove_rows(4,dataset1)['vote']).plot.bar()\n",
    "print(pd.value_counts(remove_rows(4,dataset1)['vote']))"
   ]
  },
  {
   "cell_type": "markdown",
   "metadata": {},
   "source": [
    "**Step 3 *(action required)*.** What happens? Can you imagine some use cases where the k-anonymization we employed might be an issue for analysts who have access only to the k-anonymized dataset?"
   ]
  },
  {
   "cell_type": "markdown",
   "metadata": {},
   "source": [
    "_Your answer here._"
   ]
  }
 ],
 "metadata": {
  "kernelspec": {
   "display_name": "Python 3",
   "language": "python",
   "name": "python3"
  },
  "language_info": {
   "codemirror_mode": {
    "name": "ipython",
    "version": 3
   },
   "file_extension": ".py",
   "mimetype": "text/x-python",
   "name": "python",
   "nbconvert_exporter": "python",
   "pygments_lexer": "ipython3",
   "version": "3.7.0"
  }
 },
 "nbformat": 4,
 "nbformat_minor": 2
}
